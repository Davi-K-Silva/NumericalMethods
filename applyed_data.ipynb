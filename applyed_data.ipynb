{
 "cells": [
  {
   "cell_type": "code",
   "execution_count": 114,
   "metadata": {},
   "outputs": [],
   "source": [
    "import numpy as np\n",
    "import pandas as pd\n",
    "import matplotlib.pyplot as plt"
   ]
  },
  {
   "cell_type": "code",
   "execution_count": 115,
   "metadata": {},
   "outputs": [
    {
     "data": {
      "text/html": [
       "<div>\n",
       "<style scoped>\n",
       "    .dataframe tbody tr th:only-of-type {\n",
       "        vertical-align: middle;\n",
       "    }\n",
       "\n",
       "    .dataframe tbody tr th {\n",
       "        vertical-align: top;\n",
       "    }\n",
       "\n",
       "    .dataframe thead th {\n",
       "        text-align: right;\n",
       "    }\n",
       "</style>\n",
       "<table border=\"1\" class=\"dataframe\">\n",
       "  <thead>\n",
       "    <tr style=\"text-align: right;\">\n",
       "      <th></th>\n",
       "      <th>Time</th>\n",
       "      <th>Altitude</th>\n",
       "      <th>Velocity</th>\n",
       "      <th>Acceleration</th>\n",
       "    </tr>\n",
       "  </thead>\n",
       "  <tbody>\n",
       "    <tr>\n",
       "      <th>0</th>\n",
       "      <td>0</td>\n",
       "      <td>-8</td>\n",
       "      <td>0</td>\n",
       "      <td>2.45</td>\n",
       "    </tr>\n",
       "    <tr>\n",
       "      <th>1</th>\n",
       "      <td>20</td>\n",
       "      <td>1244</td>\n",
       "      <td>139</td>\n",
       "      <td>18.62</td>\n",
       "    </tr>\n",
       "    <tr>\n",
       "      <th>2</th>\n",
       "      <td>40</td>\n",
       "      <td>5377</td>\n",
       "      <td>298</td>\n",
       "      <td>16.37</td>\n",
       "    </tr>\n",
       "    <tr>\n",
       "      <th>3</th>\n",
       "      <td>60</td>\n",
       "      <td>11617</td>\n",
       "      <td>433</td>\n",
       "      <td>19.40</td>\n",
       "    </tr>\n",
       "    <tr>\n",
       "      <th>4</th>\n",
       "      <td>80</td>\n",
       "      <td>19872</td>\n",
       "      <td>685</td>\n",
       "      <td>24.50</td>\n",
       "    </tr>\n",
       "    <tr>\n",
       "      <th>5</th>\n",
       "      <td>100</td>\n",
       "      <td>31412</td>\n",
       "      <td>1026</td>\n",
       "      <td>24.01</td>\n",
       "    </tr>\n",
       "    <tr>\n",
       "      <th>6</th>\n",
       "      <td>120</td>\n",
       "      <td>44726</td>\n",
       "      <td>1279</td>\n",
       "      <td>8.72</td>\n",
       "    </tr>\n",
       "    <tr>\n",
       "      <th>7</th>\n",
       "      <td>140</td>\n",
       "      <td>57396</td>\n",
       "      <td>1373</td>\n",
       "      <td>9.70</td>\n",
       "    </tr>\n",
       "    <tr>\n",
       "      <th>8</th>\n",
       "      <td>160</td>\n",
       "      <td>67893</td>\n",
       "      <td>1490</td>\n",
       "      <td>10.19</td>\n",
       "    </tr>\n",
       "    <tr>\n",
       "      <th>9</th>\n",
       "      <td>180</td>\n",
       "      <td>77485</td>\n",
       "      <td>1634</td>\n",
       "      <td>10.68</td>\n",
       "    </tr>\n",
       "    <tr>\n",
       "      <th>10</th>\n",
       "      <td>200</td>\n",
       "      <td>85662</td>\n",
       "      <td>1800</td>\n",
       "      <td>11.17</td>\n",
       "    </tr>\n",
       "    <tr>\n",
       "      <th>11</th>\n",
       "      <td>220</td>\n",
       "      <td>92481</td>\n",
       "      <td>1986</td>\n",
       "      <td>11.86</td>\n",
       "    </tr>\n",
       "    <tr>\n",
       "      <th>12</th>\n",
       "      <td>240</td>\n",
       "      <td>98004</td>\n",
       "      <td>2191</td>\n",
       "      <td>12.45</td>\n",
       "    </tr>\n",
       "    <tr>\n",
       "      <th>13</th>\n",
       "      <td>260</td>\n",
       "      <td>102301</td>\n",
       "      <td>2417</td>\n",
       "      <td>13.23</td>\n",
       "    </tr>\n",
       "    <tr>\n",
       "      <th>14</th>\n",
       "      <td>280</td>\n",
       "      <td>105321</td>\n",
       "      <td>2651</td>\n",
       "      <td>13.92</td>\n",
       "    </tr>\n",
       "    <tr>\n",
       "      <th>15</th>\n",
       "      <td>300</td>\n",
       "      <td>107449</td>\n",
       "      <td>2915</td>\n",
       "      <td>14.90</td>\n",
       "    </tr>\n",
       "    <tr>\n",
       "      <th>16</th>\n",
       "      <td>320</td>\n",
       "      <td>108619</td>\n",
       "      <td>3203</td>\n",
       "      <td>15.97</td>\n",
       "    </tr>\n",
       "    <tr>\n",
       "      <th>17</th>\n",
       "      <td>340</td>\n",
       "      <td>108942</td>\n",
       "      <td>3516</td>\n",
       "      <td>17.15</td>\n",
       "    </tr>\n",
       "    <tr>\n",
       "      <th>18</th>\n",
       "      <td>360</td>\n",
       "      <td>108543</td>\n",
       "      <td>3860</td>\n",
       "      <td>18.62</td>\n",
       "    </tr>\n",
       "    <tr>\n",
       "      <th>19</th>\n",
       "      <td>380</td>\n",
       "      <td>107690</td>\n",
       "      <td>4216</td>\n",
       "      <td>20.29</td>\n",
       "    </tr>\n",
       "    <tr>\n",
       "      <th>20</th>\n",
       "      <td>400</td>\n",
       "      <td>106539</td>\n",
       "      <td>4630</td>\n",
       "      <td>22.34</td>\n",
       "    </tr>\n",
       "    <tr>\n",
       "      <th>21</th>\n",
       "      <td>420</td>\n",
       "      <td>105142</td>\n",
       "      <td>5092</td>\n",
       "      <td>24.89</td>\n",
       "    </tr>\n",
       "    <tr>\n",
       "      <th>22</th>\n",
       "      <td>440</td>\n",
       "      <td>103775</td>\n",
       "      <td>5612</td>\n",
       "      <td>28.03</td>\n",
       "    </tr>\n",
       "    <tr>\n",
       "      <th>23</th>\n",
       "      <td>460</td>\n",
       "      <td>102807</td>\n",
       "      <td>6184</td>\n",
       "      <td>29.01</td>\n",
       "    </tr>\n",
       "    <tr>\n",
       "      <th>24</th>\n",
       "      <td>480</td>\n",
       "      <td>102552</td>\n",
       "      <td>6760</td>\n",
       "      <td>29.30</td>\n",
       "    </tr>\n",
       "    <tr>\n",
       "      <th>25</th>\n",
       "      <td>500</td>\n",
       "      <td>103297</td>\n",
       "      <td>7327</td>\n",
       "      <td>29.01</td>\n",
       "    </tr>\n",
       "    <tr>\n",
       "      <th>26</th>\n",
       "      <td>520</td>\n",
       "      <td>105069</td>\n",
       "      <td>7581</td>\n",
       "      <td>0.10</td>\n",
       "    </tr>\n",
       "  </tbody>\n",
       "</table>\n",
       "</div>"
      ],
      "text/plain": [
       "    Time  Altitude  Velocity  Acceleration\n",
       "0      0        -8         0          2.45\n",
       "1     20      1244       139         18.62\n",
       "2     40      5377       298         16.37\n",
       "3     60     11617       433         19.40\n",
       "4     80     19872       685         24.50\n",
       "5    100     31412      1026         24.01\n",
       "6    120     44726      1279          8.72\n",
       "7    140     57396      1373          9.70\n",
       "8    160     67893      1490         10.19\n",
       "9    180     77485      1634         10.68\n",
       "10   200     85662      1800         11.17\n",
       "11   220     92481      1986         11.86\n",
       "12   240     98004      2191         12.45\n",
       "13   260    102301      2417         13.23\n",
       "14   280    105321      2651         13.92\n",
       "15   300    107449      2915         14.90\n",
       "16   320    108619      3203         15.97\n",
       "17   340    108942      3516         17.15\n",
       "18   360    108543      3860         18.62\n",
       "19   380    107690      4216         20.29\n",
       "20   400    106539      4630         22.34\n",
       "21   420    105142      5092         24.89\n",
       "22   440    103775      5612         28.03\n",
       "23   460    102807      6184         29.01\n",
       "24   480    102552      6760         29.30\n",
       "25   500    103297      7327         29.01\n",
       "26   520    105069      7581          0.10"
      ]
     },
     "execution_count": 115,
     "metadata": {},
     "output_type": "execute_result"
    }
   ],
   "source": [
    "data = pd.read_csv('STS-121AscentData.csv')\n",
    "data"
   ]
  },
  {
   "cell_type": "code",
   "execution_count": 116,
   "metadata": {},
   "outputs": [],
   "source": [
    "def Plotpattern(xoriginal,yoriginal,xpoints,ypoints,xInterpolation,yInterpolation):\n",
    "    fig = plt.figure(figsize = (8,7))\n",
    "    plt.plot(xInterpolation, yInterpolation, 'b')\n",
    "    plt.plot(xoriginal, yoriginal, 'ro')\n",
    "    plt.plot(xpoints, ypoints, 'ms')\n",
    "    plt.title('Data')\n",
    "    plt.grid()\n",
    "    plt.xlabel('Tempo (s)')\n",
    "    plt.ylabel('Velocidade (m/s)')\n",
    "    plt.show()\n"
   ]
  },
  {
   "cell_type": "code",
   "execution_count": 117,
   "metadata": {},
   "outputs": [
    {
     "name": "stdout",
     "output_type": "stream",
     "text": [
      "Index(['Time', 'Altitude', 'Velocity', 'Acceleration'], dtype='object')\n",
      "[  0  20  40  60  80 100 120 140 160 180 200 220 240 260 280 300 320 340\n",
      " 360 380 400 420 440 460 480 500 520]\n"
     ]
    },
    {
     "data": {
      "image/png": "[encoded data removed]",
      "text/plain": [
       "<Figure size 576x504 with 1 Axes>"
      ]
     },
     "metadata": {
      "needs_background": "light"
     },
     "output_type": "display_data"
    }
   ],
   "source": [
    "fig = plt.figure(figsize = (8,7))\n",
    "\n",
    "print(data.columns)\n",
    "\n",
    "y = data['Altitude'].to_list()\n",
    "x = np.arange(0, 540, 20)\n",
    "print(x)\n",
    "plt.plot( x, y, 'ro')\n",
    "plt.title('Data')\n",
    "plt.grid()\n",
    "plt.xlabel('x')\n",
    "plt.ylabel('y')\n",
    "plt.show()"
   ]
  },
  {
   "cell_type": "markdown",
   "metadata": {},
   "source": [
    "# Lagrange"
   ]
  },
  {
   "cell_type": "code",
   "execution_count": 118,
   "metadata": {},
   "outputs": [],
   "source": [
    "def P(xt,x,i):\n",
    "    result = []\n",
    "    for j in range(len(x)):\n",
    "        if(j != i):\n",
    "            result.append((xt-x[j])/(x[i]-x[j]))\n",
    "    return np.prod(result)\n",
    "         \n",
    "\n",
    "def Lagrange(x,y,xt):\n",
    "    result = []\n",
    "    for i in range(len(x)):\n",
    "        result.append(y[i]*P(xt,x,i))\n",
    "    return np.sum(result)"
   ]
  },
  {
   "cell_type": "code",
   "execution_count": 120,
   "metadata": {},
   "outputs": [],
   "source": [
    "def getNearPoints(n, x ,y, xTarget):\n",
    "    xpLeft = []\n",
    "    ypLeft = []\n",
    "    xpRight = []\n",
    "    ypRight = []\n",
    "    nLeft = 0\n",
    "    nRight = 0\n",
    "    for i in range(len(x)):\n",
    "        if x[i] < xTarget:\n",
    "            if nLeft < n:\n",
    "                xpLeft.append(x[i])\n",
    "                ypLeft.append(y[i])\n",
    "                nLeft += 1\n",
    "            else:\n",
    "                xpLeft.pop(0)\n",
    "                ypLeft.pop(0)\n",
    "                xpLeft.append(x[i])\n",
    "                ypLeft.append(y[i])\n",
    "                nLeft += 1\n",
    "\n",
    "        if x[i] > xTarget:\n",
    "            if nRight < n:\n",
    "                xpRight.append(x[i])\n",
    "                ypRight.append(y[i])\n",
    "                nRight += 1\n",
    "            else:\n",
    "                break\n",
    "        \n",
    "        xp = xpLeft + xpRight\n",
    "        yp = ypLeft + ypRight\n",
    "        \n",
    "    return xp, yp\n",
    "    "
   ]
  },
  {
   "cell_type": "code",
   "execution_count": 134,
   "metadata": {},
   "outputs": [
    {
     "name": "stdout",
     "output_type": "stream",
     "text": [
      "[  0  40  80 120 160 200 240 280 320 360 400 440 480 520]\n",
      "[-8, 5377, 19872, 44726, 67893, 85662, 98004, 105321, 108619, 108543, 106539, 103775, 102552, 105069]\n",
      "[0.0, 903.1306689975463, 0.0, 907.6487072707896, 0.0, 462.4172667265084, 0.0, 451.8417695760654, 0.0, 27.485657334313146, 0.0, 27.399776577964076, 0.0, 74.16767227643868, 0.0, 23.437466025381582, 0.0, 8.8380492926226, 0.0, 43.041455149577814, 0.0, 153.97562968732382, 0.0, 552.2913106679916, 0.0, 3551.493634580809, 0.0]\n",
      "Erro total: 7187.169064163332\n"
     ]
    },
    {
     "data": {
      "image/png": "[encoded data removed]",
      "text/plain": [
       "<Figure size 576x504 with 1 Axes>"
      ]
     },
     "metadata": {
      "needs_background": "light"
     },
     "output_type": "display_data"
    }
   ],
   "source": [
    "xtarget = np.arange(0, 560, 40)\n",
    "ytarget = [y[i*2] for i in range(len(xtarget))]\n",
    "\n",
    "print(xtarget)\n",
    "print(ytarget)\n",
    "\n",
    "xLagrange = np.arange(0.0, 520.1, 0.1)\n",
    "yLagrange = [Lagrange(xtarget,ytarget,i)for i in xLagrange]\n",
    "\n",
    "firstError = []\n",
    "for i in range(len(x)):\n",
    "    firstError.append(abs(Lagrange(xtarget,ytarget,x[i])-y[i]))\n",
    "\n",
    "print(firstError)\n",
    "print(\"Erro total: \" +str(np.sum(firstError))) \n",
    "\n",
    "Plotpattern(x,y,xtarget,ytarget,xLagrange,yLagrange)"
   ]
  },
  {
   "cell_type": "code",
   "execution_count": 122,
   "metadata": {},
   "outputs": [
    {
     "data": {
      "image/png": "[encoded data removed]",
      "text/plain": [
       "<Figure size 576x504 with 1 Axes>"
      ]
     },
     "metadata": {
      "needs_background": "light"
     },
     "output_type": "display_data"
    },
    {
     "name": "stdout",
     "output_type": "stream",
     "text": [
      "Erro = 123.0\n"
     ]
    }
   ],
   "source": [
    "xtarget ,ytarget = getNearPoints(1,x,y,x[20])\n",
    "\n",
    "xLagrange = np.arange(260, 500.1, 0.1)\n",
    "yLagrange = [Lagrange(xtarget,ytarget,i) for i in xLagrange]\n",
    "\n",
    "Plotpattern(x,y,xtarget,ytarget,xLagrange,yLagrange)\n",
    "print(\"Erro = \" + str(abs(Lagrange(xtarget,ytarget,x[20])-y[20])))"
   ]
  },
  {
   "cell_type": "code",
   "execution_count": 123,
   "metadata": {},
   "outputs": [
    {
     "name": "stdout",
     "output_type": "stream",
     "text": [
      "[1252.0, 1440.5, 1053.5, 1007.5, 1642.5, 887.0, 322.0, 1086.5, 452.5, 707.5, 679.0, 648.0, 613.0, 638.5, 446.0, 479.0, 423.5, 361.0, 227.0, 149.0, 123.0, 15.0, 199.5, 356.5, 500.0, 513.5, 1772.0]\n",
      "Erro total: 17995.0\n"
     ]
    }
   ],
   "source": [
    "errorSum = []\n",
    "for i in range(len(x)):\n",
    "    xtarget ,ytarget = getNearPoints(1,x,y,x[i])\n",
    "    yLagrange = Lagrange(xtarget,ytarget,x[i])\n",
    "    error = abs(yLagrange - y[i])\n",
    "    errorSum.append(error)\n",
    "\n",
    "print(errorSum)\n",
    "\n",
    "print(\"Erro total: \" + str(np.sum(errorSum)))"
   ]
  },
  {
   "cell_type": "code",
   "execution_count": 124,
   "metadata": {},
   "outputs": [
    {
     "data": {
      "image/png": "[encoded data removed]",
      "text/plain": [
       "<Figure size 576x504 with 1 Axes>"
      ]
     },
     "metadata": {
      "needs_background": "light"
     },
     "output_type": "display_data"
    },
    {
     "name": "stdout",
     "output_type": "stream",
     "text": [
      "Erro = 37.333333333343035\n"
     ]
    }
   ],
   "source": [
    "xtarget ,ytarget = getNearPoints(2,x,y,x[20])\n",
    "\n",
    "xLagrange = np.arange(260, 500.1, 0.1)\n",
    "yLagrange = [Lagrange(xtarget,ytarget,i) for i in xLagrange]\n",
    "\n",
    "Plotpattern(x,y,xtarget,ytarget,xLagrange,yLagrange)\n",
    "print(\"Erro = \" + str(abs(Lagrange(xtarget,ytarget,x[20])-y[20])))"
   ]
  },
  {
   "cell_type": "code",
   "execution_count": 125,
   "metadata": {},
   "outputs": [
    {
     "name": "stdout",
     "output_type": "stream",
     "text": [
      "[2881.0, 258.0, 113.66666666666788, 227.0, 463.5, 151.16666666666424, 148.16666666667152, 466.16666666666424, 296.3333333333285, 94.5, 0.8333333333430346, 1.3333333333139308, 20.166666666656965, 72.66666666665697, 75.16666666665697, 29.5, 2.3333333333430346, 23.833333333328483, 18.666666666656965, 17.333333333343035, 37.333333333343035, 15.5, 9.166666666656965, 4.5, 43.33333333332848, 9.0, 1027.0]\n",
      "Erro total: 6507.166666666624\n"
     ]
    }
   ],
   "source": [
    "errorSum = []\n",
    "for i in range(len(x)):\n",
    "    xtarget ,ytarget = getNearPoints(2,x,y,x[i])\n",
    "    yLagrange = Lagrange(xtarget,ytarget,x[i])\n",
    "    error = abs(yLagrange - y[i])\n",
    "    errorSum.append(error)\n",
    "\n",
    "print(errorSum)\n",
    "\n",
    "print(\"Erro total: \" + str(np.sum(errorSum)))"
   ]
  },
  {
   "cell_type": "code",
   "execution_count": 126,
   "metadata": {},
   "outputs": [
    {
     "data": {
      "image/png": "[encoded data removed]",
      "text/plain": [
       "<Figure size 576x504 with 1 Axes>"
      ]
     },
     "metadata": {
      "needs_background": "light"
     },
     "output_type": "display_data"
    },
    {
     "name": "stdout",
     "output_type": "stream",
     "text": [
      "Erro = 22.949999999982538\n"
     ]
    }
   ],
   "source": [
    "xtarget ,ytarget = getNearPoints(3,x,y,x[20])\n",
    "\n",
    "xLagrange = np.arange(260, 500.1, 0.1)\n",
    "yLagrange = [Lagrange(xtarget,ytarget,i) for i in xLagrange]\n",
    "\n",
    "Plotpattern(x,y,xtarget,ytarget,xLagrange,yLagrange)\n",
    "print(\"Erro = \" + str(abs(Lagrange(xtarget,ytarget,x[20])-y[20])))"
   ]
  },
  {
   "cell_type": "code",
   "execution_count": 127,
   "metadata": {},
   "outputs": [
    {
     "name": "stdout",
     "output_type": "stream",
     "text": [
      "[774.0, 170.5, 68.0, 241.14999999999782, 300.84999999999854, 3.899999999997817, 5.600000000005821, 324.15000000000146, 346.0, 145.35000000000582, 28.25, 6.600000000005821, 34.29999999998836, 72.19999999999709, 75.75000000001455, 39.55000000001746, 14.60000000000582, 19.19999999999709, 13.150000000008731, 16.0, 22.949999999982538, 0.8500000000058208, 8.800000000017462, 13.05000000000291, 23.30000000000291, 65.0, 27.0]\n",
      "Erro total: 2860.050000000054\n"
     ]
    }
   ],
   "source": [
    "errorSum = []\n",
    "for i in range(len(x)):\n",
    "    xtarget ,ytarget = getNearPoints(3,x,y,x[i])\n",
    "    yLagrange = Lagrange(xtarget,ytarget,x[i])\n",
    "    error = abs(yLagrange - y[i])\n",
    "    errorSum.append(error)\n",
    "\n",
    "print(errorSum)\n",
    "\n",
    "print(\"Erro total: \" + str(np.sum(errorSum)))"
   ]
  },
  {
   "cell_type": "code",
   "execution_count": 128,
   "metadata": {},
   "outputs": [
    {
     "data": {
      "image/png": "[encoded data removed]",
      "text/plain": [
       "<Figure size 576x504 with 1 Axes>"
      ]
     },
     "metadata": {
      "needs_background": "light"
     },
     "output_type": "display_data"
    },
    {
     "name": "stdout",
     "output_type": "stream",
     "text": [
      "Erro = 17.442857142843422\n"
     ]
    }
   ],
   "source": [
    "xtarget ,ytarget = getNearPoints(4,x,y,x[20])\n",
    "\n",
    "xLagrange = np.arange(260, 500.1, 0.1)\n",
    "yLagrange = [Lagrange(xtarget,ytarget,i) for i in xLagrange]\n",
    "\n",
    "Plotpattern(x,y,xtarget,ytarget,xLagrange,yLagrange)\n",
    "print(\"Erro = \" + str(abs(Lagrange(xtarget,ytarget,x[20])-y[20])))"
   ]
  },
  {
   "cell_type": "code",
   "execution_count": 129,
   "metadata": {},
   "outputs": [
    {
     "name": "stdout",
     "output_type": "stream",
     "text": [
      "[682.0, 136.0000000000009, 321.53333333333376, 309.7142857142844, 241.9285714285761, 89.78571428570285, 96.92857142857974, 285.6857142857043, 331.8571428571595, 189.98571428569267, 59.55714285715658, 21.642857142855064, 42.114285714313155, 72.69999999998254, 75.21428571431898, 48.414285714243306, 25.128571428605937, 18.899999999965075, 8.428571428579744, 11.942857142887078, 17.442857142843422, 3.5571428571711294, 9.000000000029104, 12.485714285692666, 17.400000000023283, 46.59999999999127, 260.0]\n",
      "Erro total: 3435.9476190476926\n"
     ]
    }
   ],
   "source": [
    "errorSum = []\n",
    "for i in range(len(x)):\n",
    "    xtarget ,ytarget = getNearPoints(4,x,y,x[i])\n",
    "    yLagrange = Lagrange(xtarget,ytarget,x[i])\n",
    "    error = abs(yLagrange - y[i])\n",
    "    errorSum.append(error)\n",
    "\n",
    "print(errorSum)\n",
    "\n",
    "print(\"Erro total: \" + str(np.sum(errorSum)))"
   ]
  },
  {
   "cell_type": "code",
   "execution_count": 130,
   "metadata": {},
   "outputs": [
    {
     "data": {
      "image/png": "[encoded data removed]",
      "text/plain": [
       "<Figure size 576x504 with 1 Axes>"
      ]
     },
     "metadata": {
      "needs_background": "light"
     },
     "output_type": "display_data"
    },
    {
     "name": "stdout",
     "output_type": "stream",
     "text": [
      "Erro = 13.996031746035442\n"
     ]
    }
   ],
   "source": [
    "xtarget ,ytarget = getNearPoints(5,x,y,x[20])\n",
    "\n",
    "xLagrange = np.arange(260, 500.1, 0.1)\n",
    "yLagrange = [Lagrange(xtarget,ytarget,i) for i in xLagrange]\n",
    "\n",
    "Plotpattern(x,y,xtarget,ytarget,xLagrange,yLagrange)\n",
    "print(\"Erro = \" + str(abs(Lagrange(xtarget,ytarget,x[20])-y[20])))"
   ]
  },
  {
   "cell_type": "code",
   "execution_count": 131,
   "metadata": {},
   "outputs": [
    {
     "name": "stdout",
     "output_type": "stream",
     "text": [
      "[680.0, 803.8333333333385, 516.1904761904752, 302.41071428571195, 184.28571428572104, 144.00793650794003, 158.14682539681235, 277.8214285714421, 316.4960317460209, 214.27380952381645, 91.87301587303227, 40.26587301585823, 49.603174603165826, 72.9801587301481, 75.4285714285943, 54.769841269851895, 32.65873015872785, 19.821428571420256, 6.615079365088604, 9.138888888890506, 13.996031746035442, 4.321428571420256, 3.0238095238164533, 11.249999999970896, 20.80952380951203, 43.49999999994179, 233.0]\n",
      "Erro total: 4380.521825396753\n"
     ]
    }
   ],
   "source": [
    "errorSum = []\n",
    "for i in range(len(x)):\n",
    "    xtarget ,ytarget = getNearPoints(5,x,y,x[i])\n",
    "    yLagrange = Lagrange(xtarget,ytarget,x[i])\n",
    "    error = abs(yLagrange - y[i])\n",
    "    errorSum.append(error)\n",
    "\n",
    "print(errorSum)\n",
    "\n",
    "print(\"Erro total: \" + str(np.sum(errorSum)))"
   ]
  },
  {
   "cell_type": "markdown",
   "metadata": {},
   "source": [
    "# Newton"
   ]
  },
  {
   "cell_type": "code",
   "execution_count": 132,
   "metadata": {},
   "outputs": [],
   "source": [
    "def divided_diff(x, y):\n",
    "    '''\n",
    "    function to calculate the divided\n",
    "    differences table\n",
    "    '''\n",
    "    n = len(y)\n",
    "    coef = np.zeros([n, n])\n",
    "    # the first column is y\n",
    "    coef[:,0] = y\n",
    "    \n",
    "    for j in range(1,n):\n",
    "        for i in range(n-j):\n",
    "            coef[i][j] = \\\n",
    "           (coef[i+1][j-1] - coef[i][j-1]) / (x[i+j]-x[i])\n",
    "            \n",
    "    return coef\n",
    "\n",
    "def newton_poly(coef, x_data, x):\n",
    "    '''\n",
    "    evaluate the newton polynomial \n",
    "    at x\n",
    "    '''\n",
    "    n = len(x_data) - 1 \n",
    "    p = coef[n]\n",
    "    for k in range(1,n+1):\n",
    "        p = coef[n-k] + (x -x_data[n-k])*p\n",
    "    return p"
   ]
  },
  {
   "cell_type": "code",
   "execution_count": 142,
   "metadata": {},
   "outputs": [
    {
     "name": "stdout",
     "output_type": "stream",
     "text": [
      "[0.0, 903.1306689975463, 0.0, 907.6487072707896, 0.0, 462.4172667265084, 0.0, 451.8417695760654, 0.0, 27.485657334313146, 0.0, 27.399776577964076, 0.0, 74.16767227643868, 0.0, 23.437466025381582, 0.0, 8.8380492926226, 0.0, 43.041455149577814, 0.0, 153.97562968732382, 0.0, 552.2913106679916, 0.0, 3551.493634580809, 0.0]\n",
      "Erro total: 7187.169064163332\n"
     ]
    },
    {
     "data": {
      "image/png": "[encoded data removed]",
      "text/plain": [
       "<Figure size 576x504 with 1 Axes>"
      ]
     },
     "metadata": {
      "needs_background": "light"
     },
     "output_type": "display_data"
    }
   ],
   "source": [
    "xtarget = np.arange(0, 560, 40)\n",
    "ytarget = [y[i*2] for i in range(len(xtarget))]\n",
    "# get the divided difference coef\n",
    "a_s = divided_diff(xtarget, ytarget)[0, :]\n",
    "\n",
    "# evaluate on new data points\n",
    "x_new = np.arange(0, 520.1, 0.1)\n",
    "y_new = newton_poly(a_s, xtarget, x_new)\n",
    "\n",
    "firstError = []\n",
    "for i in range(len(x)):\n",
    "    firstError.append(abs(Lagrange(xtarget,ytarget,x[i])-y[i]))\n",
    "\n",
    "print(firstError)\n",
    "print(\"Erro total: \" +str(np.sum(firstError))) \n",
    "\n",
    "Plotpattern(x,y,xtarget,ytarget,x_new,y_new)"
   ]
  },
  {
   "cell_type": "code",
   "execution_count": 143,
   "metadata": {},
   "outputs": [
    {
     "data": {
      "image/png": "[encoded data removed]",
      "text/plain": [
       "<Figure size 576x504 with 1 Axes>"
      ]
     },
     "metadata": {
      "needs_background": "light"
     },
     "output_type": "display_data"
    },
    {
     "name": "stdout",
     "output_type": "stream",
     "text": [
      "Erro = 37.33333333332848\n"
     ]
    }
   ],
   "source": [
    "xtarget ,ytarget = getNearPoints(2,x,y,x[20])\n",
    "# get the divided difference coef\n",
    "a_s = divided_diff(xtarget, ytarget)[0, :]\n",
    "\n",
    "# evaluate on new data points\n",
    "x_new = np.arange(260, 520.1, 0.1)\n",
    "y_new = newton_poly(a_s, xtarget, x_new)\n",
    "\n",
    "\n",
    "Plotpattern(x,y,xtarget,ytarget,x_new,y_new)\n",
    "print(\"Erro = \" + str(abs(newton_poly(a_s, xtarget, x[20])-y[20])))"
   ]
  },
  {
   "cell_type": "code",
   "execution_count": 147,
   "metadata": {},
   "outputs": [
    {
     "name": "stdout",
     "output_type": "stream",
     "text": [
      "[2881.0, 258.0, 113.66666666666697, 227.0, 463.5, 151.16666666666788, 148.16666666666424, 466.1666666666715, 296.33333333334303, 94.5, 0.8333333333430346, 1.3333333333284827, 20.166666666671517, 72.66666666667152, 75.16666666667152, 29.5, 2.3333333333284827, 23.833333333328483, 18.666666666671517, 17.333333333328483, 37.33333333332848, 15.5, 9.166666666671517, 4.5, 43.33333333332848, 9.0, 1027.0]\n",
      "Erro total: 6507.166666666685\n"
     ]
    }
   ],
   "source": [
    "errorSum = []\n",
    "for i in range(len(x)):\n",
    "    xtarget ,ytarget = getNearPoints(2,x,y,x[i])\n",
    "    a_s = divided_diff(xtarget, ytarget)[0, :]\n",
    "    yNewton = newton_poly(a_s, xtarget, x[i])\n",
    "    error = abs(yNewton - y[i])\n",
    "    errorSum.append(error)\n",
    "\n",
    "print(errorSum)\n",
    "\n",
    "print(\"Erro total: \" + str(np.sum(errorSum)))"
   ]
  },
  {
   "cell_type": "code",
   "execution_count": 148,
   "metadata": {},
   "outputs": [
    {
     "data": {
      "image/png": "[encoded data removed]",
      "text/plain": [
       "<Figure size 576x504 with 1 Axes>"
      ]
     },
     "metadata": {
      "needs_background": "light"
     },
     "output_type": "display_data"
    },
    {
     "name": "stdout",
     "output_type": "stream",
     "text": [
      "Erro = 22.94999999999709\n"
     ]
    }
   ],
   "source": [
    "xtarget ,ytarget = getNearPoints(3,x,y,x[20])\n",
    "# get the divided difference coef\n",
    "a_s = divided_diff(xtarget, ytarget)[0, :]\n",
    "\n",
    "# evaluate on new data points\n",
    "x_new = np.arange(260, 520.1, 0.1)\n",
    "y_new = newton_poly(a_s, xtarget, x_new)\n",
    "\n",
    "\n",
    "Plotpattern(x,y,xtarget,ytarget,x_new,y_new)\n",
    "print(\"Erro = \" + str(abs(newton_poly(a_s, xtarget, x[20])-y[20])))"
   ]
  },
  {
   "cell_type": "code",
   "execution_count": 150,
   "metadata": {},
   "outputs": [
    {
     "name": "stdout",
     "output_type": "stream",
     "text": [
      "[774.0000000000002, 170.5, 68.00000000000091, 241.15000000000146, 300.8500000000022, 3.899999999997817, 5.599999999998545, 324.15000000000146, 346.0, 145.35000000000582, 28.25, 6.600000000005821, 34.30000000000291, 72.19999999999709, 75.75, 39.55000000000291, 14.60000000000582, 19.19999999999709, 13.14999999999418, 16.0, 22.94999999999709, 0.8500000000058208, 8.80000000000291, 13.05000000000291, 23.30000000000291, 65.0, 27.0]\n",
      "Erro total: 2860.0500000000256\n"
     ]
    }
   ],
   "source": [
    "errorSum = []\n",
    "for i in range(len(x)):\n",
    "    xtarget ,ytarget = getNearPoints(3,x,y,x[i])\n",
    "    a_s = divided_diff(xtarget, ytarget)[0, :]\n",
    "    yNewton = newton_poly(a_s, xtarget, x[i])\n",
    "    error = abs(yNewton - y[i])\n",
    "    errorSum.append(error)\n",
    "\n",
    "print(errorSum)\n",
    "\n",
    "print(\"Erro total: \" + str(np.sum(errorSum)))"
   ]
  },
  {
   "cell_type": "code",
   "execution_count": 152,
   "metadata": {},
   "outputs": [
    {
     "data": {
      "image/png": "[encoded data removed]",
      "text/plain": [
       "<Figure size 576x504 with 1 Axes>"
      ]
     },
     "metadata": {
      "needs_background": "light"
     },
     "output_type": "display_data"
    },
    {
     "name": "stdout",
     "output_type": "stream",
     "text": [
      "Erro = 17.442857142857974\n"
     ]
    }
   ],
   "source": [
    "xtarget ,ytarget = getNearPoints(4,x,y,x[20])\n",
    "# get the divided difference coef\n",
    "a_s = divided_diff(xtarget, ytarget)[0, :]\n",
    "\n",
    "# evaluate on new data points\n",
    "x_new = np.arange(260, 520.1, 0.1)\n",
    "y_new = newton_poly(a_s, xtarget, x_new)\n",
    "\n",
    "\n",
    "Plotpattern(x,y,xtarget,ytarget,x_new,y_new)\n",
    "print(\"Erro = \" + str(abs(newton_poly(a_s, xtarget, x[20])-y[20])))"
   ]
  },
  {
   "cell_type": "code",
   "execution_count": 154,
   "metadata": {},
   "outputs": [
    {
     "name": "stdout",
     "output_type": "stream",
     "text": [
      "[681.9999999999998, 136.0, 321.53333333333285, 309.71428571428623, 241.92857142857247, 89.7857142857174, 96.92857142857247, 285.6857142857116, 331.85714285714494, 189.98571428570722, 59.557142857142026, 21.642857142855064, 42.11428571428405, 72.69999999999709, 75.21428571428987, 48.41428571428696, 25.128571428576834, 18.89999999999418, 8.428571428565192, 11.942857142857974, 17.442857142857974, 3.5571428571420256, 9.0, 12.485714285707218, 17.39999999999418, 46.60000000000582, 260.0]\n",
      "Erro total: 3435.9476190476016\n"
     ]
    }
   ],
   "source": [
    "errorSum = []\n",
    "for i in range(len(x)):\n",
    "    xtarget ,ytarget = getNearPoints(4,x,y,x[i])\n",
    "    a_s = divided_diff(xtarget, ytarget)[0, :]\n",
    "    yNewton = newton_poly(a_s, xtarget, x[i])\n",
    "    error = abs(yNewton - y[i])\n",
    "    errorSum.append(error)\n",
    "\n",
    "print(errorSum)\n",
    "\n",
    "print(\"Erro total: \" + str(np.sum(errorSum)))"
   ]
  },
  {
   "cell_type": "code",
   "execution_count": 156,
   "metadata": {},
   "outputs": [
    {
     "data": {
      "image/png": "[encoded data removed]",
      "text/plain": [
       "<Figure size 576x504 with 1 Axes>"
      ]
     },
     "metadata": {
      "needs_background": "light"
     },
     "output_type": "display_data"
    },
    {
     "name": "stdout",
     "output_type": "stream",
     "text": [
      "Erro = 13.996031746035442\n"
     ]
    }
   ],
   "source": [
    "xtarget ,ytarget = getNearPoints(5,x,y,x[20])\n",
    "# get the divided difference coef\n",
    "a_s = divided_diff(xtarget, ytarget)[0, :]\n",
    "\n",
    "# evaluate on new data points\n",
    "x_new = np.arange(260, 520.1, 0.1)\n",
    "y_new = newton_poly(a_s, xtarget, x_new)\n",
    "\n",
    "\n",
    "Plotpattern(x,y,xtarget,ytarget,x_new,y_new)\n",
    "print(\"Erro = \" + str(abs(newton_poly(a_s, xtarget, x[20])-y[20])))"
   ]
  },
  {
   "cell_type": "code",
   "execution_count": 155,
   "metadata": {},
   "outputs": [
    {
     "name": "stdout",
     "output_type": "stream",
     "text": [
      "[680.0000000000007, 803.8333333333334, 516.1904761904761, 302.4107142857156, 184.2857142857174, 144.00793650793275, 158.14682539681962, 277.82142857142026, 316.49603174603544, 214.27380952381645, 91.87301587301772, 40.265873015872785, 49.603174603165826, 72.9801587301481, 75.42857142856519, 54.76984126983734, 32.65873015872785, 19.821428571434808, 6.6150793650740525, 9.138888888890506, 13.996031746035442, 4.321428571434808, 3.0238095238164533, 11.25, 20.80952380952658, 43.5, 233.0]\n",
      "Erro total: 4380.521825396815\n"
     ]
    }
   ],
   "source": [
    "errorSum = []\n",
    "for i in range(len(x)):\n",
    "    xtarget ,ytarget = getNearPoints(5,x,y,x[i])\n",
    "    a_s = divided_diff(xtarget, ytarget)[0, :]\n",
    "    yNewton = newton_poly(a_s, xtarget, x[i])\n",
    "    error = abs(yNewton - y[i])\n",
    "    errorSum.append(error)\n",
    "\n",
    "print(errorSum)\n",
    "\n",
    "print(\"Erro total: \" + str(np.sum(errorSum)))"
   ]
  },
  {
   "cell_type": "markdown",
   "metadata": {},
   "source": [
    "## Lagrage v.s Newton\n",
    "\n",
    "Método    | Erro total\n",
    "--------- | ------\n",
    "Lagrange Alternado | 7187.169064163332\n",
    "Lagrange 1 | 17995.0\n",
    "Lagrange 2 | 6507.166666666624\n",
    "Lagrange 3 | 2860.0500000000256\n",
    "Lagrange 4 | 3435.9476190476926\n",
    "Lagrange 5 | 4380.521825396753"
   ]
  }
 ],
 "metadata": {
  "interpreter": {
   "hash": "071feee9bb2deabe6b15df256141e6a7336da713c53c07d3db821433bc8bc4fc"
  },
  "kernelspec": {
   "display_name": "Python 3.10.2 64-bit",
   "language": "python",
   "name": "python3"
  },
  "language_info": {
   "codemirror_mode": {
    "name": "ipython",
    "version": 3
   },
   "file_extension": ".py",
   "mimetype": "text/x-python",
   "name": "python",
   "nbconvert_exporter": "python",
   "pygments_lexer": "ipython3",
   "version": "3.10.2"
  },
  "orig_nbformat": 4
 },
 "nbformat": 4,
 "nbformat_minor": 2
}
