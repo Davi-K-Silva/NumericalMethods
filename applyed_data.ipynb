{
 "cells": [
  {
   "cell_type": "code",
   "execution_count": 1,
   "metadata": {},
   "outputs": [],
   "source": [
    "import numpy as np\n",
    "import pandas as pd\n",
    "import matplotlib.pyplot as plt"
   ]
  },
  {
   "cell_type": "code",
   "execution_count": 2,
   "metadata": {},
   "outputs": [
    {
     "data": {
      "text/html": [
       "<div>\n",
       "<style scoped>\n",
       "    .dataframe tbody tr th:only-of-type {\n",
       "        vertical-align: middle;\n",
       "    }\n",
       "\n",
       "    .dataframe tbody tr th {\n",
       "        vertical-align: top;\n",
       "    }\n",
       "\n",
       "    .dataframe thead th {\n",
       "        text-align: right;\n",
       "    }\n",
       "</style>\n",
       "<table border=\"1\" class=\"dataframe\">\n",
       "  <thead>\n",
       "    <tr style=\"text-align: right;\">\n",
       "      <th></th>\n",
       "      <th>Time</th>\n",
       "      <th>Altitude</th>\n",
       "      <th>Velocity</th>\n",
       "      <th>Acceleration</th>\n",
       "    </tr>\n",
       "  </thead>\n",
       "  <tbody>\n",
       "    <tr>\n",
       "      <th>0</th>\n",
       "      <td>0</td>\n",
       "      <td>-8</td>\n",
       "      <td>0</td>\n",
       "      <td>2.45</td>\n",
       "    </tr>\n",
       "    <tr>\n",
       "      <th>1</th>\n",
       "      <td>20</td>\n",
       "      <td>1244</td>\n",
       "      <td>139</td>\n",
       "      <td>18.62</td>\n",
       "    </tr>\n",
       "    <tr>\n",
       "      <th>2</th>\n",
       "      <td>40</td>\n",
       "      <td>5377</td>\n",
       "      <td>298</td>\n",
       "      <td>16.37</td>\n",
       "    </tr>\n",
       "    <tr>\n",
       "      <th>3</th>\n",
       "      <td>60</td>\n",
       "      <td>11617</td>\n",
       "      <td>433</td>\n",
       "      <td>19.40</td>\n",
       "    </tr>\n",
       "    <tr>\n",
       "      <th>4</th>\n",
       "      <td>80</td>\n",
       "      <td>19872</td>\n",
       "      <td>685</td>\n",
       "      <td>24.50</td>\n",
       "    </tr>\n",
       "    <tr>\n",
       "      <th>5</th>\n",
       "      <td>100</td>\n",
       "      <td>31412</td>\n",
       "      <td>1026</td>\n",
       "      <td>24.01</td>\n",
       "    </tr>\n",
       "    <tr>\n",
       "      <th>6</th>\n",
       "      <td>120</td>\n",
       "      <td>44726</td>\n",
       "      <td>1279</td>\n",
       "      <td>8.72</td>\n",
       "    </tr>\n",
       "    <tr>\n",
       "      <th>7</th>\n",
       "      <td>140</td>\n",
       "      <td>57396</td>\n",
       "      <td>1373</td>\n",
       "      <td>9.70</td>\n",
       "    </tr>\n",
       "    <tr>\n",
       "      <th>8</th>\n",
       "      <td>160</td>\n",
       "      <td>67893</td>\n",
       "      <td>1490</td>\n",
       "      <td>10.19</td>\n",
       "    </tr>\n",
       "    <tr>\n",
       "      <th>9</th>\n",
       "      <td>180</td>\n",
       "      <td>77485</td>\n",
       "      <td>1634</td>\n",
       "      <td>10.68</td>\n",
       "    </tr>\n",
       "    <tr>\n",
       "      <th>10</th>\n",
       "      <td>200</td>\n",
       "      <td>85662</td>\n",
       "      <td>1800</td>\n",
       "      <td>11.17</td>\n",
       "    </tr>\n",
       "    <tr>\n",
       "      <th>11</th>\n",
       "      <td>220</td>\n",
       "      <td>92481</td>\n",
       "      <td>1986</td>\n",
       "      <td>11.86</td>\n",
       "    </tr>\n",
       "    <tr>\n",
       "      <th>12</th>\n",
       "      <td>240</td>\n",
       "      <td>98004</td>\n",
       "      <td>2191</td>\n",
       "      <td>12.45</td>\n",
       "    </tr>\n",
       "    <tr>\n",
       "      <th>13</th>\n",
       "      <td>260</td>\n",
       "      <td>102301</td>\n",
       "      <td>2417</td>\n",
       "      <td>13.23</td>\n",
       "    </tr>\n",
       "    <tr>\n",
       "      <th>14</th>\n",
       "      <td>280</td>\n",
       "      <td>105321</td>\n",
       "      <td>2651</td>\n",
       "      <td>13.92</td>\n",
       "    </tr>\n",
       "    <tr>\n",
       "      <th>15</th>\n",
       "      <td>300</td>\n",
       "      <td>107449</td>\n",
       "      <td>2915</td>\n",
       "      <td>14.90</td>\n",
       "    </tr>\n",
       "    <tr>\n",
       "      <th>16</th>\n",
       "      <td>320</td>\n",
       "      <td>108619</td>\n",
       "      <td>3203</td>\n",
       "      <td>15.97</td>\n",
       "    </tr>\n",
       "    <tr>\n",
       "      <th>17</th>\n",
       "      <td>340</td>\n",
       "      <td>108942</td>\n",
       "      <td>3516</td>\n",
       "      <td>17.15</td>\n",
       "    </tr>\n",
       "    <tr>\n",
       "      <th>18</th>\n",
       "      <td>360</td>\n",
       "      <td>108543</td>\n",
       "      <td>3860</td>\n",
       "      <td>18.62</td>\n",
       "    </tr>\n",
       "    <tr>\n",
       "      <th>19</th>\n",
       "      <td>380</td>\n",
       "      <td>107690</td>\n",
       "      <td>4216</td>\n",
       "      <td>20.29</td>\n",
       "    </tr>\n",
       "    <tr>\n",
       "      <th>20</th>\n",
       "      <td>400</td>\n",
       "      <td>106539</td>\n",
       "      <td>4630</td>\n",
       "      <td>22.34</td>\n",
       "    </tr>\n",
       "    <tr>\n",
       "      <th>21</th>\n",
       "      <td>420</td>\n",
       "      <td>105142</td>\n",
       "      <td>5092</td>\n",
       "      <td>24.89</td>\n",
       "    </tr>\n",
       "    <tr>\n",
       "      <th>22</th>\n",
       "      <td>440</td>\n",
       "      <td>103775</td>\n",
       "      <td>5612</td>\n",
       "      <td>28.03</td>\n",
       "    </tr>\n",
       "    <tr>\n",
       "      <th>23</th>\n",
       "      <td>460</td>\n",
       "      <td>102807</td>\n",
       "      <td>6184</td>\n",
       "      <td>29.01</td>\n",
       "    </tr>\n",
       "    <tr>\n",
       "      <th>24</th>\n",
       "      <td>480</td>\n",
       "      <td>102552</td>\n",
       "      <td>6760</td>\n",
       "      <td>29.30</td>\n",
       "    </tr>\n",
       "    <tr>\n",
       "      <th>25</th>\n",
       "      <td>500</td>\n",
       "      <td>103297</td>\n",
       "      <td>7327</td>\n",
       "      <td>29.01</td>\n",
       "    </tr>\n",
       "    <tr>\n",
       "      <th>26</th>\n",
       "      <td>520</td>\n",
       "      <td>105069</td>\n",
       "      <td>7581</td>\n",
       "      <td>0.10</td>\n",
       "    </tr>\n",
       "  </tbody>\n",
       "</table>\n",
       "</div>"
      ],
      "text/plain": [
       "    Time  Altitude  Velocity  Acceleration\n",
       "0      0        -8         0          2.45\n",
       "1     20      1244       139         18.62\n",
       "2     40      5377       298         16.37\n",
       "3     60     11617       433         19.40\n",
       "4     80     19872       685         24.50\n",
       "5    100     31412      1026         24.01\n",
       "6    120     44726      1279          8.72\n",
       "7    140     57396      1373          9.70\n",
       "8    160     67893      1490         10.19\n",
       "9    180     77485      1634         10.68\n",
       "10   200     85662      1800         11.17\n",
       "11   220     92481      1986         11.86\n",
       "12   240     98004      2191         12.45\n",
       "13   260    102301      2417         13.23\n",
       "14   280    105321      2651         13.92\n",
       "15   300    107449      2915         14.90\n",
       "16   320    108619      3203         15.97\n",
       "17   340    108942      3516         17.15\n",
       "18   360    108543      3860         18.62\n",
       "19   380    107690      4216         20.29\n",
       "20   400    106539      4630         22.34\n",
       "21   420    105142      5092         24.89\n",
       "22   440    103775      5612         28.03\n",
       "23   460    102807      6184         29.01\n",
       "24   480    102552      6760         29.30\n",
       "25   500    103297      7327         29.01\n",
       "26   520    105069      7581          0.10"
      ]
     },
     "execution_count": 2,
     "metadata": {},
     "output_type": "execute_result"
    }
   ],
   "source": [
    "data = pd.read_csv('STS-121AscentData.csv')\n",
    "data"
   ]
  },
  {
   "cell_type": "code",
   "execution_count": 3,
   "metadata": {},
   "outputs": [],
   "source": [
    "def Plotpattern(xoriginal,yoriginal,xpoints,ypoints,xInterpolation,yInterpolation):\n",
    "    fig = plt.figure(figsize = (8,7))\n",
    "    plt.plot(xInterpolation, yInterpolation, 'b')\n",
    "    plt.plot(xoriginal, yoriginal, 'ro')\n",
    "    plt.plot(xpoints, ypoints, 'ms')\n",
    "    plt.title('Data')\n",
    "    plt.grid()\n",
    "    plt.xlabel('Tempo (s)')\n",
    "    plt.ylabel('Altitude (Km)')\n",
    "    plt.show()\n"
   ]
  },
  {
   "cell_type": "code",
   "execution_count": 4,
   "metadata": {},
   "outputs": [
    {
     "name": "stdout",
     "output_type": "stream",
     "text": [
      "Index(['Time', 'Altitude', 'Velocity', 'Acceleration'], dtype='object')\n",
      "[  0  20  40  60  80 100 120 140 160 180 200 220 240 260 280 300 320 340\n",
      " 360 380 400 420 440 460 480 500 520]\n"
     ]
    },
    {
     "data": {
      "image/png": "[encoded data removed]",
      "text/plain": [
       "<Figure size 576x504 with 1 Axes>"
      ]
     },
     "metadata": {
      "needs_background": "light"
     },
     "output_type": "display_data"
    }
   ],
   "source": [
    "fig = plt.figure(figsize = (8,7))\n",
    "\n",
    "print(data.columns)\n",
    "\n",
    "y = data['Altitude'].to_list()\n",
    "y = [yi/1000 for yi in y]\n",
    "x = np.arange(0, 540, 20)\n",
    "print(x)\n",
    "plt.plot( x, y, 'ro')\n",
    "plt.title('Data')\n",
    "plt.grid()\n",
    "plt.xlabel('x')\n",
    "plt.ylabel('y')\n",
    "plt.show()"
   ]
  },
  {
   "cell_type": "markdown",
   "metadata": {},
   "source": [
    "# Lagrange"
   ]
  },
  {
   "cell_type": "code",
   "execution_count": 5,
   "metadata": {},
   "outputs": [],
   "source": [
    "def P(xt,x,i):\n",
    "    result = []\n",
    "    for j in range(len(x)):\n",
    "        if(j != i):\n",
    "            result.append((xt-x[j])/(x[i]-x[j]))\n",
    "    return np.prod(result)\n",
    "         \n",
    "\n",
    "def Lagrange(x,y,xt):\n",
    "    result = []\n",
    "    for i in range(len(x)):\n",
    "        result.append(y[i]*P(xt,x,i))\n",
    "    return np.sum(result)"
   ]
  },
  {
   "cell_type": "code",
   "execution_count": 6,
   "metadata": {},
   "outputs": [],
   "source": [
    "def getNearPoints(n, x ,y, xTarget):\n",
    "    xpLeft = []\n",
    "    ypLeft = []\n",
    "    xpRight = []\n",
    "    ypRight = []\n",
    "    nLeft = 0\n",
    "    nRight = 0\n",
    "    for i in range(len(x)):\n",
    "        if x[i] < xTarget:\n",
    "            if nLeft < n:\n",
    "                xpLeft.append(x[i])\n",
    "                ypLeft.append(y[i])\n",
    "                nLeft += 1\n",
    "            else:\n",
    "                xpLeft.pop(0)\n",
    "                ypLeft.pop(0)\n",
    "                xpLeft.append(x[i])\n",
    "                ypLeft.append(y[i])\n",
    "                nLeft += 1\n",
    "\n",
    "        if x[i] > xTarget:\n",
    "            if nRight < n:\n",
    "                xpRight.append(x[i])\n",
    "                ypRight.append(y[i])\n",
    "                nRight += 1\n",
    "            else:\n",
    "                break\n",
    "        \n",
    "        xp = xpLeft + xpRight\n",
    "        yp = ypLeft + ypRight\n",
    "        \n",
    "    return xp, yp\n",
    "    "
   ]
  },
  {
   "cell_type": "code",
   "execution_count": 7,
   "metadata": {},
   "outputs": [
    {
     "name": "stdout",
     "output_type": "stream",
     "text": [
      "[  0  40  80 120 160 200 240 280 320 360 400 440 480 520]\n",
      "[-0.008, 5.377, 19.872, 44.726, 67.893, 85.662, 98.004, 105.321, 108.619, 108.543, 106.539, 103.775, 102.552, 105.069]\n",
      "[0.0, 0.9031306689980678, 0.0, 0.9076487072707629, 0.0, 0.46241726672650785, 0.0, 0.45184176957606326, 0.0, 0.027485657334310076, 0.0, 0.02739977657797965, 0.0, 0.07416767227644527, 0.0, 0.02343746602539909, 0.0, 0.008838049292634764, 0.0, 0.043041455149548824, 0.0, 0.1539756296873236, 0.0, 0.5522913106679965, 0.0, 3.5514936345807513, 0.0]\n",
      "Erro total: 7.187169064163791\n"
     ]
    },
    {
     "data": {
      "image/png": "[encoded data removed]",
      "text/plain": [
       "<Figure size 576x504 with 1 Axes>"
      ]
     },
     "metadata": {
      "needs_background": "light"
     },
     "output_type": "display_data"
    }
   ],
   "source": [
    "xtarget = np.arange(0, 560, 40)\n",
    "ytarget = [y[i*2] for i in range(len(xtarget))]\n",
    "\n",
    "print(xtarget)\n",
    "print(ytarget)\n",
    "\n",
    "xLagrange = np.arange(0.0, 520.1, 0.1)\n",
    "yLagrange = [Lagrange(xtarget,ytarget,i)for i in xLagrange]\n",
    "\n",
    "firstError = []\n",
    "for i in range(len(x)):\n",
    "    firstError.append(abs(Lagrange(xtarget,ytarget,x[i])-y[i]))\n",
    "\n",
    "print(firstError)\n",
    "print(\"Erro total: \" +str(np.sum(firstError))) \n",
    "\n",
    "Plotpattern(x,y,xtarget,ytarget,xLagrange,yLagrange)"
   ]
  },
  {
   "cell_type": "code",
   "execution_count": 8,
   "metadata": {},
   "outputs": [
    {
     "data": {
      "image/png": "[encoded data removed]",
      "text/plain": [
       "<Figure size 576x504 with 1 Axes>"
      ]
     },
     "metadata": {
      "needs_background": "light"
     },
     "output_type": "display_data"
    },
    {
     "name": "stdout",
     "output_type": "stream",
     "text": [
      "Erro = 0.12300000000000466\n"
     ]
    }
   ],
   "source": [
    "xtarget ,ytarget = getNearPoints(1,x,y,x[20])\n",
    "\n",
    "xLagrange = np.arange(260, 500.1, 0.1)\n",
    "yLagrange = [Lagrange(xtarget,ytarget,i) for i in xLagrange]\n",
    "\n",
    "Plotpattern(x,y,xtarget,ytarget,xLagrange,yLagrange)\n",
    "print(\"Erro = \" + str(abs(Lagrange(xtarget,ytarget,x[20])-y[20])))"
   ]
  },
  {
   "cell_type": "code",
   "execution_count": 9,
   "metadata": {},
   "outputs": [
    {
     "name": "stdout",
     "output_type": "stream",
     "text": [
      "[1.252, 1.4405, 1.0535000000000005, 1.0074999999999985, 1.6424999999999983, 0.8870000000000005, 0.32200000000000273, 1.086500000000001, 0.45250000000000057, 0.707499999999996, 0.679000000000002, 0.6479999999999961, 0.6130000000000138, 0.6385000000000076, 0.44599999999999795, 0.4789999999999992, 0.4235000000000042, 0.36099999999999, 0.22700000000000387, 0.1490000000000009, 0.12300000000000466, 0.01500000000001478, 0.19950000000000045, 0.35649999999999693, 0.4999999999999858, 0.5135000000000076, 1.7720000000000056]\n",
      "Erro total: 17.99500000000003\n"
     ]
    }
   ],
   "source": [
    "errorSum = []\n",
    "for i in range(len(x)):\n",
    "    xtarget ,ytarget = getNearPoints(1,x,y,x[i])\n",
    "    yLagrange = Lagrange(xtarget,ytarget,x[i])\n",
    "    error = abs(yLagrange - y[i])\n",
    "    errorSum.append(error)\n",
    "\n",
    "print(errorSum)\n",
    "\n",
    "print(\"Erro total: \" + str(np.sum(errorSum)))"
   ]
  },
  {
   "cell_type": "code",
   "execution_count": 10,
   "metadata": {},
   "outputs": [
    {
     "data": {
      "image/png": "[encoded data removed]",
      "text/plain": [
       "<Figure size 576x504 with 1 Axes>"
      ]
     },
     "metadata": {
      "needs_background": "light"
     },
     "output_type": "display_data"
    },
    {
     "name": "stdout",
     "output_type": "stream",
     "text": [
      "Erro = 0.03733333333335054\n"
     ]
    }
   ],
   "source": [
    "xtarget ,ytarget = getNearPoints(2,x,y,x[20])\n",
    "\n",
    "xLagrange = np.arange(260, 500.1, 0.1)\n",
    "yLagrange = [Lagrange(xtarget,ytarget,i) for i in xLagrange]\n",
    "\n",
    "Plotpattern(x,y,xtarget,ytarget,xLagrange,yLagrange)\n",
    "print(\"Erro = \" + str(abs(Lagrange(xtarget,ytarget,x[20])-y[20])))"
   ]
  },
  {
   "cell_type": "code",
   "execution_count": 11,
   "metadata": {},
   "outputs": [
    {
     "name": "stdout",
     "output_type": "stream",
     "text": [
      "[2.881, 0.2579999999999998, 0.11366666666666614, 0.2270000000000003, 0.46350000000000335, 0.1511666666666649, 0.14816666666666833, 0.4661666666666733, 0.29633333333332246, 0.09449999999999648, 0.0008333333333467863, 0.0013333333333349628, 0.02016666666665401, 0.07266666666667732, 0.07516666666666083, 0.02949999999999875, 0.0023333333333539485, 0.0238333333333145, 0.018666666666632636, 0.017333333333340306, 0.03733333333335054, 0.015500000000002956, 0.009166666666644119, 0.004500000000007276, 0.043333333333322344, 0.009000000000014552, 1.0270000000000152]\n",
      "Erro total: 6.507166666666666\n"
     ]
    }
   ],
   "source": [
    "errorSum = []\n",
    "for i in range(len(x)):\n",
    "    xtarget ,ytarget = getNearPoints(2,x,y,x[i])\n",
    "    yLagrange = Lagrange(xtarget,ytarget,x[i])\n",
    "    error = abs(yLagrange - y[i])\n",
    "    errorSum.append(error)\n",
    "\n",
    "print(errorSum)\n",
    "\n",
    "print(\"Erro total: \" + str(np.sum(errorSum)))"
   ]
  },
  {
   "cell_type": "code",
   "execution_count": 12,
   "metadata": {},
   "outputs": [
    {
     "data": {
      "image/png": "[encoded data removed]",
      "text/plain": [
       "<Figure size 576x504 with 1 Axes>"
      ]
     },
     "metadata": {
      "needs_background": "light"
     },
     "output_type": "display_data"
    },
    {
     "name": "stdout",
     "output_type": "stream",
     "text": [
      "Erro = 0.022950000000008686\n"
     ]
    }
   ],
   "source": [
    "xtarget ,ytarget = getNearPoints(3,x,y,x[20])\n",
    "\n",
    "xLagrange = np.arange(260, 500.1, 0.1)\n",
    "yLagrange = [Lagrange(xtarget,ytarget,i) for i in xLagrange]\n",
    "\n",
    "Plotpattern(x,y,xtarget,ytarget,xLagrange,yLagrange)\n",
    "print(\"Erro = \" + str(abs(Lagrange(xtarget,ytarget,x[20])-y[20])))"
   ]
  },
  {
   "cell_type": "code",
   "execution_count": 13,
   "metadata": {},
   "outputs": [
    {
     "name": "stdout",
     "output_type": "stream",
     "text": [
      "[0.774, 0.17049999999999854, 0.0680000000000005, 0.2411499999999993, 0.3008500000000005, 0.0038999999999944635, 0.00560000000000116, 0.32415000000000305, 0.3459999999999894, 0.14534999999999343, 0.028249999999985675, 0.006599999999991724, 0.03429999999998756, 0.07220000000002358, 0.07574999999999932, 0.039550000000005525, 0.01459999999998729, 0.019199999999983675, 0.013149999999981787, 0.016000000000019554, 0.022950000000008686, 0.0008499999999713737, 0.008799999999979491, 0.013049999999978468, 0.023299999999991883, 0.06499999999998352, 0.027000000000029445]\n",
      "Erro total: 2.860049999999889\n"
     ]
    }
   ],
   "source": [
    "errorSum = []\n",
    "for i in range(len(x)):\n",
    "    xtarget ,ytarget = getNearPoints(3,x,y,x[i])\n",
    "    yLagrange = Lagrange(xtarget,ytarget,x[i])\n",
    "    error = abs(yLagrange - y[i])\n",
    "    errorSum.append(error)\n",
    "\n",
    "print(errorSum)\n",
    "\n",
    "print(\"Erro total: \" + str(np.sum(errorSum)))"
   ]
  },
  {
   "cell_type": "code",
   "execution_count": 14,
   "metadata": {},
   "outputs": [
    {
     "data": {
      "image/png": "[encoded data removed]",
      "text/plain": [
       "<Figure size 576x504 with 1 Axes>"
      ]
     },
     "metadata": {
      "needs_background": "light"
     },
     "output_type": "display_data"
    },
    {
     "name": "stdout",
     "output_type": "stream",
     "text": [
      "Erro = 0.01744285714283933\n"
     ]
    }
   ],
   "source": [
    "xtarget ,ytarget = getNearPoints(4,x,y,x[20])\n",
    "\n",
    "xLagrange = np.arange(260, 500.1, 0.1)\n",
    "yLagrange = [Lagrange(xtarget,ytarget,i) for i in xLagrange]\n",
    "\n",
    "Plotpattern(x,y,xtarget,ytarget,xLagrange,yLagrange)\n",
    "print(\"Erro = \" + str(abs(Lagrange(xtarget,ytarget,x[20])-y[20])))"
   ]
  },
  {
   "cell_type": "code",
   "execution_count": 15,
   "metadata": {},
   "outputs": [
    {
     "name": "stdout",
     "output_type": "stream",
     "text": [
      "[0.6819999999999977, 0.13600000000000212, 0.32153333333333567, 0.3097142857142856, 0.2419285714285735, 0.08978571428570703, 0.09692857142857747, 0.2856857142856981, 0.33185714285714596, 0.18998571428569733, 0.05955714285713043, 0.021642857142836647, 0.04211428571427689, 0.07269999999998333, 0.07521428571430988, 0.048414285714258654, 0.02512857142858138, 0.018899999999959505, 0.008428571428567011, 0.011942857142898333, 0.01744285714283933, 0.003557142857175677, 0.009000000000014552, 0.012485714285688232, 0.017399999999980764, 0.046599999999983766, 0.2599999999999483]\n",
      "Erro total: 3.435947619047453\n"
     ]
    }
   ],
   "source": [
    "errorSum = []\n",
    "for i in range(len(x)):\n",
    "    xtarget ,ytarget = getNearPoints(4,x,y,x[i])\n",
    "    yLagrange = Lagrange(xtarget,ytarget,x[i])\n",
    "    error = abs(yLagrange - y[i])\n",
    "    errorSum.append(error)\n",
    "\n",
    "print(errorSum)\n",
    "\n",
    "print(\"Erro total: \" + str(np.sum(errorSum)))"
   ]
  },
  {
   "cell_type": "code",
   "execution_count": 16,
   "metadata": {},
   "outputs": [
    {
     "data": {
      "image/png": "[encoded data removed]",
      "text/plain": [
       "<Figure size 576x504 with 1 Axes>"
      ]
     },
     "metadata": {
      "needs_background": "light"
     },
     "output_type": "display_data"
    },
    {
     "name": "stdout",
     "output_type": "stream",
     "text": [
      "Erro = 0.013996031746003723\n"
     ]
    }
   ],
   "source": [
    "xtarget ,ytarget = getNearPoints(5,x,y,x[20])\n",
    "\n",
    "xLagrange = np.arange(260, 500.1, 0.1)\n",
    "yLagrange = [Lagrange(xtarget,ytarget,i) for i in xLagrange]\n",
    "\n",
    "Plotpattern(x,y,xtarget,ytarget,xLagrange,yLagrange)\n",
    "print(\"Erro = \" + str(abs(Lagrange(xtarget,ytarget,x[20])-y[20])))"
   ]
  },
  {
   "cell_type": "code",
   "execution_count": 17,
   "metadata": {},
   "outputs": [
    {
     "name": "stdout",
     "output_type": "stream",
     "text": [
      "[0.6800000000000184, 0.8038333333333354, 0.5161904761904763, 0.3024107142857133, 0.18428571428572127, 0.14400793650793986, 0.15814682539681257, 0.27782142857142134, 0.31649603174604124, 0.21427380952378883, 0.09187301587299146, 0.040265873015854936, 0.049603174603149114, 0.07298015873014663, 0.07542857142854587, 0.05476984126987361, 0.032658730158729554, 0.019821428571418664, 0.0066150793650479045, 0.009138888888912788, 0.013996031746003723, 0.004321428571429919, 0.0030238095238246387, 0.011249999999975557, 0.020809523809532493, 0.04349999999998033, 0.2330000000000183]\n",
      "Erro total: 4.380521825396704\n"
     ]
    }
   ],
   "source": [
    "errorSum = []\n",
    "for i in range(len(x)):\n",
    "    xtarget ,ytarget = getNearPoints(5,x,y,x[i])\n",
    "    yLagrange = Lagrange(xtarget,ytarget,x[i])\n",
    "    error = abs(yLagrange - y[i])\n",
    "    errorSum.append(error)\n",
    "\n",
    "print(errorSum)\n",
    "\n",
    "print(\"Erro total: \" + str(np.sum(errorSum)))"
   ]
  },
  {
   "cell_type": "markdown",
   "metadata": {},
   "source": [
    "# Newton"
   ]
  },
  {
   "cell_type": "code",
   "execution_count": 18,
   "metadata": {},
   "outputs": [],
   "source": [
    "def divided_diff(x, y):\n",
    "    '''\n",
    "    function to calculate the divided\n",
    "    differences table\n",
    "    '''\n",
    "    n = len(y)\n",
    "    coef = np.zeros([n, n])\n",
    "    # the first column is y\n",
    "    coef[:,0] = y\n",
    "    \n",
    "    for j in range(1,n):\n",
    "        for i in range(n-j):\n",
    "            coef[i][j] = \\\n",
    "           (coef[i+1][j-1] - coef[i][j-1]) / (x[i+j]-x[i])\n",
    "            \n",
    "    return coef\n",
    "\n",
    "def newton_poly(coef, x_data, x):\n",
    "    '''\n",
    "    evaluate the newton polynomial \n",
    "    at x\n",
    "    '''\n",
    "    n = len(x_data) - 1 \n",
    "    p = coef[n]\n",
    "    for k in range(1,n+1):\n",
    "        p = coef[n-k] + (x -x_data[n-k])*p\n",
    "    return p"
   ]
  },
  {
   "cell_type": "code",
   "execution_count": 19,
   "metadata": {},
   "outputs": [
    {
     "name": "stdout",
     "output_type": "stream",
     "text": [
      "[0.0, 0.9031306689980678, 0.0, 0.9076487072707629, 0.0, 0.46241726672650785, 0.0, 0.45184176957606326, 0.0, 0.027485657334310076, 0.0, 0.02739977657797965, 0.0, 0.07416767227644527, 0.0, 0.02343746602539909, 0.0, 0.008838049292634764, 0.0, 0.043041455149548824, 0.0, 0.1539756296873236, 0.0, 0.5522913106679965, 0.0, 3.5514936345807513, 0.0]\n",
      "Erro total: 7.187169064163791\n"
     ]
    },
    {
     "data": {
      "image/png": "[encoded data removed]",
      "text/plain": [
       "<Figure size 576x504 with 1 Axes>"
      ]
     },
     "metadata": {
      "needs_background": "light"
     },
     "output_type": "display_data"
    }
   ],
   "source": [
    "xtarget = np.arange(0, 560, 40)\n",
    "ytarget = [y[i*2] for i in range(len(xtarget))]\n",
    "# get the divided difference coef\n",
    "a_s = divided_diff(xtarget, ytarget)[0, :]\n",
    "\n",
    "# evaluate on new data points\n",
    "x_new = np.arange(0, 520.1, 0.1)\n",
    "y_new = newton_poly(a_s, xtarget, x_new)\n",
    "\n",
    "firstError = []\n",
    "for i in range(len(x)):\n",
    "    firstError.append(abs(Lagrange(xtarget,ytarget,x[i])-y[i]))\n",
    "\n",
    "print(firstError)\n",
    "print(\"Erro total: \" +str(np.sum(firstError))) \n",
    "\n",
    "Plotpattern(x,y,xtarget,ytarget,x_new,y_new)"
   ]
  },
  {
   "cell_type": "code",
   "execution_count": 20,
   "metadata": {},
   "outputs": [
    {
     "data": {
      "image/png": "[encoded data removed]",
      "text/plain": [
       "<Figure size 576x504 with 1 Axes>"
      ]
     },
     "metadata": {
      "needs_background": "light"
     },
     "output_type": "display_data"
    },
    {
     "name": "stdout",
     "output_type": "stream",
     "text": [
      "Erro = 0.12300000000000466\n"
     ]
    }
   ],
   "source": [
    "xtarget ,ytarget = getNearPoints(1,x,y,x[20])\n",
    "# get the divided difference coef\n",
    "a_s = divided_diff(xtarget, ytarget)[0, :]\n",
    "\n",
    "# evaluate on new data points\n",
    "x_new = np.arange(260, 520.1, 0.1)\n",
    "y_new = newton_poly(a_s, xtarget, x_new)\n",
    "\n",
    "\n",
    "Plotpattern(x,y,xtarget,ytarget,x_new,y_new)\n",
    "print(\"Erro = \" + str(abs(newton_poly(a_s, xtarget, x[20])-y[20])))"
   ]
  },
  {
   "cell_type": "code",
   "execution_count": 21,
   "metadata": {},
   "outputs": [
    {
     "name": "stdout",
     "output_type": "stream",
     "text": [
      "[1.252, 1.4405, 1.0535000000000005, 1.0075000000000003, 1.6424999999999983, 0.8870000000000005, 0.32200000000000273, 1.086500000000001, 0.45250000000000057, 0.707499999999996, 0.679000000000002, 0.6479999999999961, 0.6130000000000138, 0.6385000000000076, 0.44599999999999795, 0.4789999999999992, 0.4235000000000042, 0.36099999999999, 0.22700000000000387, 0.1490000000000009, 0.12300000000000466, 0.01500000000001478, 0.19950000000000045, 0.35649999999999693, 0.4999999999999858, 0.5135000000000076, 1.7720000000000056]\n",
      "Erro total: 17.995000000000033\n"
     ]
    }
   ],
   "source": [
    "errorSum = []\n",
    "for i in range(len(x)):\n",
    "    xtarget ,ytarget = getNearPoints(1,x,y,x[i])\n",
    "    a_s = divided_diff(xtarget, ytarget)[0, :]\n",
    "    yNewton = newton_poly(a_s, xtarget, x[i])\n",
    "    error = abs(yNewton - y[i])\n",
    "    errorSum.append(error)\n",
    "\n",
    "print(errorSum)\n",
    "\n",
    "print(\"Erro total: \" + str(np.sum(errorSum)))"
   ]
  },
  {
   "cell_type": "code",
   "execution_count": 22,
   "metadata": {},
   "outputs": [
    {
     "data": {
      "image/png": "[encoded data removed]",
      "text/plain": [
       "<Figure size 576x504 with 1 Axes>"
      ]
     },
     "metadata": {
      "needs_background": "light"
     },
     "output_type": "display_data"
    },
    {
     "name": "stdout",
     "output_type": "stream",
     "text": [
      "Erro = 0.03733333333333633\n"
     ]
    }
   ],
   "source": [
    "xtarget ,ytarget = getNearPoints(2,x,y,x[20])\n",
    "# get the divided difference coef\n",
    "a_s = divided_diff(xtarget, ytarget)[0, :]\n",
    "\n",
    "# evaluate on new data points\n",
    "x_new = np.arange(260, 520.1, 0.1)\n",
    "y_new = newton_poly(a_s, xtarget, x_new)\n",
    "\n",
    "\n",
    "Plotpattern(x,y,xtarget,ytarget,x_new,y_new)\n",
    "print(\"Erro = \" + str(abs(newton_poly(a_s, xtarget, x[20])-y[20])))"
   ]
  },
  {
   "cell_type": "code",
   "execution_count": 23,
   "metadata": {},
   "outputs": [
    {
     "name": "stdout",
     "output_type": "stream",
     "text": [
      "[2.8810000000000002, 0.2579999999999998, 0.11366666666666525, 0.2270000000000003, 0.4634999999999998, 0.1511666666666649, 0.14816666666666833, 0.4661666666666662, 0.29633333333333667, 0.09449999999999648, 0.0008333333333467863, 0.001333333333320752, 0.02016666666665401, 0.0726666666666631, 0.07516666666666083, 0.02949999999999875, 0.0023333333333397377, 0.0238333333333145, 0.018666666666646847, 0.017333333333340306, 0.03733333333333633, 0.015499999999988745, 0.00916666666665833, 0.004500000000007276, 0.043333333333322344, 0.009000000000014552, 1.0270000000000152]\n",
      "Erro total: 6.507166666666627\n"
     ]
    }
   ],
   "source": [
    "errorSum = []\n",
    "for i in range(len(x)):\n",
    "    xtarget ,ytarget = getNearPoints(2,x,y,x[i])\n",
    "    a_s = divided_diff(xtarget, ytarget)[0, :]\n",
    "    yNewton = newton_poly(a_s, xtarget, x[i])\n",
    "    error = abs(yNewton - y[i])\n",
    "    errorSum.append(error)\n",
    "\n",
    "print(errorSum)\n",
    "\n",
    "print(\"Erro total: \" + str(np.sum(errorSum)))"
   ]
  },
  {
   "cell_type": "code",
   "execution_count": 24,
   "metadata": {},
   "outputs": [
    {
     "data": {
      "image/png": "[encoded data removed]",
      "text/plain": [
       "<Figure size 576x504 with 1 Axes>"
      ]
     },
     "metadata": {
      "needs_background": "light"
     },
     "output_type": "display_data"
    },
    {
     "name": "stdout",
     "output_type": "stream",
     "text": [
      "Erro = 0.022950000000008686\n"
     ]
    }
   ],
   "source": [
    "xtarget ,ytarget = getNearPoints(3,x,y,x[20])\n",
    "# get the divided difference coef\n",
    "a_s = divided_diff(xtarget, ytarget)[0, :]\n",
    "\n",
    "# evaluate on new data points\n",
    "x_new = np.arange(260, 520.1, 0.1)\n",
    "y_new = newton_poly(a_s, xtarget, x_new)\n",
    "\n",
    "\n",
    "Plotpattern(x,y,xtarget,ytarget,x_new,y_new)\n",
    "print(\"Erro = \" + str(abs(newton_poly(a_s, xtarget, x[20])-y[20])))"
   ]
  },
  {
   "cell_type": "code",
   "execution_count": 25,
   "metadata": {},
   "outputs": [
    {
     "name": "stdout",
     "output_type": "stream",
     "text": [
      "[0.7739999999999989, 0.17049999999999876, 0.06800000000000139, 0.2411499999999993, 0.3008500000000005, 0.003900000000001569, 0.00560000000000116, 0.32415000000000305, 0.3459999999999894, 0.14534999999999343, 0.028249999999985675, 0.006599999999991724, 0.03429999999998756, 0.07219999999999516, 0.07574999999999932, 0.039549999999991314, 0.01459999999998729, 0.019199999999983675, 0.013149999999981787, 0.016000000000005343, 0.022950000000008686, 0.0008499999999855845, 0.008799999999993702, 0.013049999999992679, 0.023299999999991883, 0.06499999999998352, 0.027000000000029445]\n",
      "Erro total: 2.860049999999882\n"
     ]
    }
   ],
   "source": [
    "errorSum = []\n",
    "for i in range(len(x)):\n",
    "    xtarget ,ytarget = getNearPoints(3,x,y,x[i])\n",
    "    a_s = divided_diff(xtarget, ytarget)[0, :]\n",
    "    yNewton = newton_poly(a_s, xtarget, x[i])\n",
    "    error = abs(yNewton - y[i])\n",
    "    errorSum.append(error)\n",
    "\n",
    "print(errorSum)\n",
    "\n",
    "print(\"Erro total: \" + str(np.sum(errorSum)))"
   ]
  },
  {
   "cell_type": "code",
   "execution_count": 26,
   "metadata": {},
   "outputs": [
    {
     "data": {
      "image/png": "[encoded data removed]",
      "text/plain": [
       "<Figure size 576x504 with 1 Axes>"
      ]
     },
     "metadata": {
      "needs_background": "light"
     },
     "output_type": "display_data"
    },
    {
     "name": "stdout",
     "output_type": "stream",
     "text": [
      "Erro = 0.01744285714286775\n"
     ]
    }
   ],
   "source": [
    "xtarget ,ytarget = getNearPoints(4,x,y,x[20])\n",
    "# get the divided difference coef\n",
    "a_s = divided_diff(xtarget, ytarget)[0, :]\n",
    "\n",
    "# evaluate on new data points\n",
    "x_new = np.arange(260, 520.1, 0.1)\n",
    "y_new = newton_poly(a_s, xtarget, x_new)\n",
    "\n",
    "\n",
    "Plotpattern(x,y,xtarget,ytarget,x_new,y_new)\n",
    "print(\"Erro = \" + str(abs(newton_poly(a_s, xtarget, x[20])-y[20])))"
   ]
  },
  {
   "cell_type": "code",
   "execution_count": 27,
   "metadata": {},
   "outputs": [
    {
     "name": "stdout",
     "output_type": "stream",
     "text": [
      "[0.6819999999999957, 0.1360000000000019, 0.3215333333333348, 0.3097142857142874, 0.2419285714285735, 0.08978571428571414, 0.09692857142857747, 0.2856857142857194, 0.33185714285713175, 0.18998571428569733, 0.05955714285713043, 0.021642857142836647, 0.04211428571427689, 0.07269999999999754, 0.07521428571428146, 0.048414285714287075, 0.02512857142856717, 0.018899999999987926, 0.0084285714285528, 0.011942857142869912, 0.01744285714286775, 0.003557142857147255, 0.00899999999998613, 0.012485714285702443, 0.017399999999980764, 0.046599999999983766, 0.2599999999999483]\n",
      "Erro total: 3.435947619047438\n"
     ]
    }
   ],
   "source": [
    "errorSum = []\n",
    "for i in range(len(x)):\n",
    "    xtarget ,ytarget = getNearPoints(4,x,y,x[i])\n",
    "    a_s = divided_diff(xtarget, ytarget)[0, :]\n",
    "    yNewton = newton_poly(a_s, xtarget, x[i])\n",
    "    error = abs(yNewton - y[i])\n",
    "    errorSum.append(error)\n",
    "\n",
    "print(errorSum)\n",
    "\n",
    "print(\"Erro total: \" + str(np.sum(errorSum)))"
   ]
  },
  {
   "cell_type": "code",
   "execution_count": 28,
   "metadata": {},
   "outputs": [
    {
     "data": {
      "image/png": "[encoded data removed]",
      "text/plain": [
       "<Figure size 576x504 with 1 Axes>"
      ]
     },
     "metadata": {
      "needs_background": "light"
     },
     "output_type": "display_data"
    },
    {
     "name": "stdout",
     "output_type": "stream",
     "text": [
      "Erro = 0.013996031746046356\n"
     ]
    }
   ],
   "source": [
    "xtarget ,ytarget = getNearPoints(5,x,y,x[20])\n",
    "# get the divided difference coef\n",
    "a_s = divided_diff(xtarget, ytarget)[0, :]\n",
    "\n",
    "# evaluate on new data points\n",
    "x_new = np.arange(260, 520.1, 0.1)\n",
    "y_new = newton_poly(a_s, xtarget, x_new)\n",
    "\n",
    "\n",
    "Plotpattern(x,y,xtarget,ytarget,x_new,y_new)\n",
    "print(\"Erro = \" + str(abs(newton_poly(a_s, xtarget, x[20])-y[20])))"
   ]
  },
  {
   "cell_type": "code",
   "execution_count": 29,
   "metadata": {},
   "outputs": [
    {
     "name": "stdout",
     "output_type": "stream",
     "text": [
      "[0.6800000000000097, 0.8038333333333366, 0.516190476190479, 0.3024107142857133, 0.18428571428571772, 0.14400793650793275, 0.15814682539682678, 0.27782142857142844, 0.31649603174602703, 0.21427380952378883, 0.09187301587300567, 0.040265873015854936, 0.049603174603163325, 0.07298015873014663, 0.07542857142857429, 0.05476984126983098, 0.03265873015871534, 0.019821428571418664, 0.006615079365062115, 0.009138888888898578, 0.013996031746046356, 0.00432142857144413, 0.003023809523796217, 0.011249999999989768, 0.02080952380950407, 0.04349999999996612, 0.23299999999990462]\n",
      "Erro total: 4.380521825396582\n"
     ]
    }
   ],
   "source": [
    "errorSum = []\n",
    "for i in range(len(x)):\n",
    "    xtarget ,ytarget = getNearPoints(5,x,y,x[i])\n",
    "    a_s = divided_diff(xtarget, ytarget)[0, :]\n",
    "    yNewton = newton_poly(a_s, xtarget, x[i])\n",
    "    error = abs(yNewton - y[i])\n",
    "    errorSum.append(error)\n",
    "\n",
    "print(errorSum)\n",
    "\n",
    "print(\"Erro total: \" + str(np.sum(errorSum)))"
   ]
  },
  {
   "cell_type": "markdown",
   "metadata": {},
   "source": [
    "## Lagrage v.s Newton\n",
    "\n",
    "Método    | Erro Total Lagrange | Erro Total Newton |\n",
    "--------- | ------------------- | ------------------|\n",
    "Alternado | 7.187169064163332   | 7.187169064163791 |\n",
    "Vizinho 1 | 17.99500000000003   | 17.995000000000033|\n",
    "Vizinho 2 | 6.507166666666624   | 6.507166666666627 |\n",
    "Vizinho 3 | 2.8600500000000256  | 2.860049999999882 |\n",
    "Vizinho 4 | 3.4359476190476926  | 3.435947619047438 |\n",
    "Vizinho 5 | 4.380521825396753   | 4.380521825396753 |"
   ]
  },
  {
   "cell_type": "code",
   "execution_count": 30,
   "metadata": {},
   "outputs": [
    {
     "name": "stdout",
     "output_type": "stream",
     "text": [
      "-4.583000645652646e-13\n",
      "-3.552713678800501e-15\n",
      "-2.6645352591003757e-15\n",
      "1.4344081478157023e-13\n",
      "2.5490720645393594e-13\n",
      "0.0\n",
      "0.3959220799612524\n"
     ]
    }
   ],
   "source": [
    "print(7.187169064163332 - 7.187169064163791)\n",
    "print(17.99500000000003 - 17.995000000000033)\n",
    "print(6.507166666666624 - 6.507166666666627)\n",
    "print(2.8600500000000256 - 2.860049999999882)\n",
    "print(3.4359476190476926 - 3.435947619047438)\n",
    "print(4.380521825396753 - 4.380521825396753)\n",
    "print(2.860049999999882 - 2.4641279200386297)"
   ]
  },
  {
   "cell_type": "markdown",
   "metadata": {},
   "source": [
    "# Gaus-Jacobi"
   ]
  },
  {
   "cell_type": "code",
   "execution_count": 31,
   "metadata": {},
   "outputs": [
    {
     "name": "stdout",
     "output_type": "stream",
     "text": [
      "WARNING: the Jacobi iterations did not converge within the required tolerance.\n",
      "The solution is [ 1. -1.]; within a tolerance of 0, using 200 iterations.\n",
      "Solution error = norm(Ax-b) = 0\n",
      "Condition number of A = 5.82843\n",
      "Solution from built-in functions = [ 1. -1.]\n"
     ]
    }
   ],
   "source": [
    "from numpy.linalg import *\n",
    "\n",
    "def jacobi(A, b, x0, tol, maxiter=200):\n",
    "    \"\"\"\n",
    "    Performs Jacobi iterations to solve the line system of\n",
    "    equations, Ax=b, starting from an initial guess, ``x0``.\n",
    "\n",
    "    Terminates when the change in x is less than ``tol``, or\n",
    "    if ``maxiter`` [default=200] iterations have been exceeded.\n",
    "\n",
    "    Returns 3 variables:\n",
    "        1.  x, the estimated solution\n",
    "        2.  rel_diff, the relative difference between last 2\n",
    "            iterations for x\n",
    "        3.  k, the number of iterations used.  If k=maxiter,\n",
    "            then the required tolerance was not met.\n",
    "    \"\"\"\n",
    "    n = A.shape[0]\n",
    "    x = x0.copy()\n",
    "    x_prev = x0.copy()\n",
    "    k = 0\n",
    "    rel_diff = tol * 2\n",
    "\n",
    "    # (rel_diff > tol) and \n",
    "    while (k < maxiter):\n",
    "\n",
    "        for i in range(0, n):\n",
    "            subs = 0.0\n",
    "            for j in range(0, n):\n",
    "                if i != j:\n",
    "                    subs += A[i,j] * x_prev[j]\n",
    "\n",
    "            x[i] = (b[i] - subs ) / A[i,i]\n",
    "        k += 1\n",
    "\n",
    "        rel_diff = norm(x - x_prev) / norm(x)\n",
    "        #print(x, rel_diff, norm(x - x_prev), norm(x))\n",
    "        x_prev = x.copy()\n",
    "\n",
    "    return x, rel_diff, k\n",
    "\n",
    "# Main code starts here\n",
    "# ---------------------\n",
    "GL = 1.6\n",
    "d = 0.8\n",
    "A = np.array([\n",
    "    [2.0, 1.0],\n",
    "    [ 3.0, 4.0]])\n",
    "b = [1, -1]\n",
    "x0 = np.zeros(2)\n",
    "\n",
    "tol = 1E-9\n",
    "maxiter = 200\n",
    "coefsResult, rel_diff, k = jacobi(A, b, x0, tol, maxiter)\n",
    "if k == maxiter:\n",
    "    print(('WARNING: the Jacobi iterations did not '\n",
    "        'converge within the required tolerance.'))\n",
    "print(('The solution is %s; within a tolerance of %g, '\n",
    "        'using %d iterations.' % (coefsResult, rel_diff, k)))\n",
    "print('Solution error = norm(Ax-b) = %g' % \\\n",
    "            norm(np.dot(A,coefsResult)-b)) \n",
    "print('Condition number of A = %0.5f' % cond(A))\n",
    "print('Solution from built-in functions = %s' % solve(A, b))\n"
   ]
  },
  {
   "cell_type": "markdown",
   "metadata": {},
   "source": [
    "# Ajuste "
   ]
  },
  {
   "cell_type": "code",
   "execution_count": 32,
   "metadata": {},
   "outputs": [],
   "source": [
    "def linearFit(x,y):\n",
    "   \n",
    "    n = len(x)\n",
    "    sumX = np.sum(x)\n",
    "    sumY = np.sum(y) \n",
    "\n",
    "    xSquare = [x[i]*x[i] for i in range(len(x))]\n",
    "    sumxSquare = np.sum(xSquare)\n",
    "\n",
    "    XtY = [x[i]*y[i] for i in range(len(x))]\n",
    "    sumXtY = np.sum(XtY)\n",
    "\n",
    "\n",
    "    A= np.array([[(n+1), sumX],\n",
    "                 [sumX , sumxSquare]])\n",
    "    b = [sumY, sumXtY]\n",
    "    x0 = np.zeros(2)\n",
    "    \n",
    "    tol = 1E-9\n",
    "    maxiter = 200\n",
    "    coefsResult, rel_diff, k = jacobi(A, b, x0, tol, maxiter)\n",
    "    if k == maxiter:\n",
    "        print(('WARNING: the Jacobi iterations did not '\n",
    "            'converge within the required tolerance.'))\n",
    "    print(('The solution is %s; within a tolerance of %g, '\n",
    "            'using %d iterations.' % (coefsResult, rel_diff, k)))\n",
    "    print('Solution error = norm(Ax-b) = %g' % \\\n",
    "                norm(np.dot(A,coefsResult)-b)) \n",
    "    print('Condition number of A = %0.5f' % cond(A))\n",
    "    print('Solution from built-in functions = %s' % solve(A, b))\n",
    "    return coefsResult\n"
   ]
  },
  {
   "cell_type": "code",
   "execution_count": 33,
   "metadata": {},
   "outputs": [],
   "source": [
    "def apllyFit(x, coefs):\n",
    "    result = []\n",
    "    result.append(coefs[0])\n",
    "    for i in range(1,len(coefs)):\n",
    "        result.append((x**(i))*coefs[i])\n",
    "    return np.sum(result)\n",
    "\n",
    "def apllyFit2(x, coefs):\n",
    "    result = []\n",
    "    result.append(coefs[0])\n",
    "    result.append(coefs[1]*x)\n",
    "    result.append(coefs[2]*(x**2))\n",
    "    return np.sum(result)\n",
    "\n",
    "def apllyFit3(x, coefs):\n",
    "    result = []\n",
    "    result.append(coefs[0])\n",
    "    result.append(coefs[1]*x)\n",
    "    result.append(coefs[2]*(x**2))\n",
    "    result.append(coefs[3]*(x**3))\n",
    "    return np.sum(result)\n",
    "\n",
    "def apllyFit4(x, coefs):\n",
    "    result = []\n",
    "    result.append(coefs[0])\n",
    "    result.append(coefs[1]*x)\n",
    "    result.append(coefs[2]*(x**2))\n",
    "    result.append(coefs[3]*(x**3))\n",
    "    result.append(coefs[4]*(x**4))\n",
    "    return np.sum(result)\n"
   ]
  },
  {
   "cell_type": "code",
   "execution_count": 34,
   "metadata": {},
   "outputs": [
    {
     "name": "stdout",
     "output_type": "stream",
     "text": [
      "WARNING: the Jacobi iterations did not converge within the required tolerance.\n",
      "The solution is [17.95508121  0.22342802]; within a tolerance of 5.93557e-15, using 200 iterations.\n",
      "Solution error = norm(Ax-b) = 6.98494e-10\n",
      "Condition number of A = 305019.27150\n",
      "Solution from built-in functions = [17.95508121  0.22342802]\n",
      "[  0  20  40  60  80 100 120 140 160 180 200 220 240 260 280 300 320 340\n",
      " 360 380 400 420 440 460 480 500 520]\n",
      "[-0.008, 1.244, 5.377, 11.617, 19.872, 31.412, 44.726, 57.396, 67.893, 77.485, 85.662, 92.481, 98.004, 102.301, 105.321, 107.449, 108.619, 108.942, 108.543, 107.69, 106.539, 105.142, 103.775, 102.807, 102.552, 103.297, 105.069]\n"
     ]
    },
    {
     "data": {
      "image/png": "[encoded data removed]",
      "text/plain": [
       "<Figure size 576x504 with 1 Axes>"
      ]
     },
     "metadata": {
      "needs_background": "light"
     },
     "output_type": "display_data"
    }
   ],
   "source": [
    "coefs = linearFit(x,y)\n",
    "\n",
    "x_newL = np.arange(-100, 620,0.1)\n",
    "y_newL = [apllyFit(x_n,coefs) for x_n in x_newL]\n",
    "\n",
    "print (x)\n",
    "print (y)\n",
    "\n",
    "Plotpattern(x,y,x,y,x_newL,y_newL)"
   ]
  },
  {
   "cell_type": "code",
   "execution_count": 35,
   "metadata": {},
   "outputs": [],
   "source": [
    "def QuadraticFit(x,y):\n",
    "    n = len(x)\n",
    "    sumX = np.sum(x)\n",
    "    sumY = np.sum(y) \n",
    "\n",
    "    xSquare = [x[i]*x[i] for i in range(len(x))]\n",
    "    sumxSquare = np.sum(xSquare)\n",
    "\n",
    "    xCubic =  [x[i]**3 for i in range(len(x))]\n",
    "    sumxCubic = np.sum(xCubic)\n",
    "\n",
    "    xFourth = [x[i]**4 for i in range(len(x))]\n",
    "    sumxFourth = np.sum(xFourth)\n",
    "\n",
    "    XtY = [x[i]*y[i] for i in range(len(x))]\n",
    "    sumXtY = np.sum(XtY)\n",
    "\n",
    "    #X2tY = [(x[i]**2)*y[i] for i in range(len(x))]\n",
    "    X2tY = []\n",
    "    for i in range(len(x)):\n",
    "        X2tY.append((x[i]**2)*y[i])\n",
    "\n",
    "    sumX2tY = np.sum(X2tY)\n",
    "\n",
    "    A= np.array([[(n+1)     , sumX      , sumxSquare],\n",
    "                 [sumX      , sumxSquare, sumxCubic ],\n",
    "                 [sumxSquare, sumxCubic , sumxFourth]])\n",
    "\n",
    "    b = [sumY, sumXtY, sumX2tY]\n",
    "    \n",
    "    \n",
    "\n",
    "    # Find diagonal coefficients\n",
    "    diag = np.diag(np.abs(A)) \n",
    "\n",
    "    # Find row sum without diagonal\n",
    "    off_diag = np.sum(np.abs(A), axis=1) - diag \n",
    "\n",
    "    if np.all(diag > off_diag):\n",
    "        print('matrix is diagonally dominant')\n",
    "    else:\n",
    "        print('NOT diagonally dominant')\n",
    "\n",
    "\n",
    "\n",
    "    x0 = np.zeros(3)\n",
    "    #x0 = np.array([0.1,0.1,0.1])\n",
    "    \n",
    "    tol = 1E-9\n",
    "    maxiter = 100\n",
    "    coefsResult, rel_diff, k = jacobi(A, b, x0, tol, maxiter)\n",
    "    if k == maxiter:\n",
    "        print(('WARNING: the Jacobi iterations did not '\n",
    "            'converge within the required tolerance.'))\n",
    "    print(('The solution is %s; within a tolerance of %g, '\n",
    "            'using %d iterations.' % (coefsResult, rel_diff, k)))\n",
    "    print('Solution error = norm(Ax-b) = %g' % \\\n",
    "                norm(np.dot(A,coefsResult)-b)) \n",
    "    print('Condition number of A = %0.5f' % cond(A))\n",
    "    print('Solution from built-in functions = %s' % solve(A, b))\n",
    "    return coefsResult"
   ]
  },
  {
   "cell_type": "code",
   "execution_count": 36,
   "metadata": {},
   "outputs": [],
   "source": [
    "def QuadraticFit2(x,y):\n",
    "    n = len(x)\n",
    "    sumX = np.sum(x)\n",
    "    sumY = np.sum(y) \n",
    "\n",
    "    xSquare = [x[i]*x[i] for i in range(len(x))]\n",
    "    sumxSquare = np.sum(xSquare)\n",
    "\n",
    "    xCubic =  [x[i]**3 for i in range(len(x))]\n",
    "    sumxCubic = np.sum(xCubic)\n",
    "\n",
    "    xFourth = [x[i]**4 for i in range(len(x))]\n",
    "    sumxFourth = np.sum(xFourth)\n",
    "\n",
    "    XtY = [x[i]*y[i] for i in range(len(x))]\n",
    "    sumXtY = np.sum(XtY)\n",
    "\n",
    "    #X2tY = [(x[i]**2)*y[i] for i in range(len(x))]\n",
    "    X2tY = []\n",
    "    for i in range(len(x)):\n",
    "        X2tY.append((x[i]**2)*y[i])\n",
    "\n",
    "    sumX2tY = np.sum(X2tY)\n",
    "\n",
    "    A= np.array([[(n+1)     , sumX      , sumxSquare],\n",
    "                 [sumX      , sumxSquare, sumxCubic ],\n",
    "                 [sumxSquare, sumxCubic , sumxFourth]])\n",
    "\n",
    "    b = [sumY, sumXtY, sumX2tY]\n",
    "    \n",
    "    # Find diagonal coefficients\n",
    "    diag = np.diag(np.abs(A)) \n",
    "\n",
    "    # Find row sum without diagonal\n",
    "    off_diag = np.sum(np.abs(A), axis=1) - diag \n",
    "\n",
    "    if np.all(diag > off_diag):\n",
    "        print('matrix is diagonally dominant')\n",
    "    else:\n",
    "        print('NOT diagonally dominant')\n",
    "\n",
    "    coefsResult = np.linalg.solve(A,b)\n",
    "  \n",
    "    return coefsResult"
   ]
  },
  {
   "cell_type": "code",
   "execution_count": 37,
   "metadata": {},
   "outputs": [
    {
     "name": "stdout",
     "output_type": "stream",
     "text": [
      "NOT diagonally dominant\n",
      "[1.90143457e+01 2.09354938e-01 2.78719787e-05]\n",
      "[  0  20  40  60  80 100 120 140 160 180 200 220 240 260 280 300 320 340\n",
      " 360 380 400 420 440 460 480 500 520]\n",
      "[-0.008, 1.244, 5.377, 11.617, 19.872, 31.412, 44.726, 57.396, 67.893, 77.485, 85.662, 92.481, 98.004, 102.301, 105.321, 107.449, 108.619, 108.942, 108.543, 107.69, 106.539, 105.142, 103.775, 102.807, 102.552, 103.297, 105.069]\n"
     ]
    },
    {
     "data": {
      "image/png": "[encoded data removed]",
      "text/plain": [
       "<Figure size 576x504 with 1 Axes>"
      ]
     },
     "metadata": {
      "needs_background": "light"
     },
     "output_type": "display_data"
    }
   ],
   "source": [
    "coefs = QuadraticFit2(x,y)\n",
    "print(coefs)\n",
    "\n",
    "print(x)\n",
    "print(y)\n",
    "\n",
    "x_new = np.arange(-1000, 1000.1,0.1)\n",
    "y_new = [apllyFit2(x_n,coefs) for x_n in x_new]\n",
    "\n",
    "Plotpattern(x,y,x,y,x_new,y_new)"
   ]
  },
  {
   "cell_type": "code",
   "execution_count": 38,
   "metadata": {},
   "outputs": [
    {
     "data": {
      "text/plain": [
       "array([1.00507552, 0.86467585, 0.84316415])"
      ]
     },
     "execution_count": 38,
     "metadata": {},
     "output_type": "execute_result"
    }
   ],
   "source": [
    "aTe = np.array([\n",
    "                [5, 2.5, 1.875], \n",
    "                [2.5, 1.875, 1.5625], \n",
    "                [1.875, 1.5625, 1.3828]]\n",
    "             )\n",
    "\n",
    "bTe = np.array([8.7680, 5.4514, 4.4015])\n",
    "xTe = np.linalg.solve(aTe, bTe)\n",
    "xTe"
   ]
  },
  {
   "cell_type": "markdown",
   "metadata": {},
   "source": [
    "[n+1 , x1, x2, x3]\n",
    "\n",
    "[x1 , x2 , x3 ,x4]\n",
    "\n",
    "[x2 , x3 , x4 , x5]\n",
    "\n",
    "[x3 , x4, x5 , x6]\n",
    "\n",
    "\n",
    "[y0, y1 , y2, y3] "
   ]
  },
  {
   "cell_type": "code",
   "execution_count": 39,
   "metadata": {},
   "outputs": [],
   "source": [
    "def PolinomialFit(x,y):\n",
    "\n",
    "    n = len(x)\n",
    "    sumX = np.sum(x)\n",
    "    sumY = np.sum(y) \n",
    "\n",
    "    xSquare = [x[i]*x[i] for i in range(len(x))]\n",
    "    sumxSquare = np.sum(xSquare)\n",
    "\n",
    "    xCubic =  [x[i]**3 for i in range(len(x))]\n",
    "    sumxCubic = np.sum(xCubic)\n",
    "\n",
    "    xFourth = [x[i]**4 for i in range(len(x))]\n",
    "    sumxFourth = np.sum(xFourth)\n",
    "\n",
    "    xFith = [x[i]**5 for i in range(len(x))]\n",
    "    sumxFith = np.sum(xFith)\n",
    "\n",
    "    xSixth = [x[i]**6 for i in range(len(x))]\n",
    "    sumxSixth = np.sum(xSixth)\n",
    "\n",
    "    XtY = [x[i]*y[i] for i in range(len(x))]\n",
    "    sumXtY = np.sum(XtY)\n",
    "\n",
    "    #X2tY = [(x[i]**2)*y[i] for i in range(len(x))]\n",
    "    X2tY = []\n",
    "    for i in range(len(x)):\n",
    "        X2tY.append((x[i]**2)*y[i])\n",
    "\n",
    "    sumX2tY = np.sum(X2tY)\n",
    "\n",
    "    X3tY = []\n",
    "    for i in range(len(x)):\n",
    "        X3tY.append((x[i]**3)*y[i])\n",
    "\n",
    "    sumX3tY = np.sum(X3tY)\n",
    "\n",
    "    A= np.array([[(n+1)     , sumX      , sumxSquare, sumxCubic],\n",
    "                 [sumX      , sumxSquare, sumxCubic, sumxFourth],\n",
    "                 [sumxSquare, sumxCubic , sumxFourth, sumxFith ],\n",
    "                 [sumxCubic , sumxFourth, sumxFith  , sumxSixth ]])\n",
    "\n",
    "    b = [sumY, sumXtY, sumX2tY, sumX3tY]\n",
    "    \n",
    "    # Find diagonal coefficients\n",
    "    diag = np.diag(np.abs(A)) \n",
    "\n",
    "    # Find row sum without diagonal\n",
    "    off_diag = np.sum(np.abs(A), axis=1) - diag \n",
    "\n",
    "    if np.all(diag > off_diag):\n",
    "        print('matrix is diagonally dominant')\n",
    "    else:\n",
    "        print('NOT diagonally dominant')\n",
    "\n",
    "    coefsResult = np.linalg.solve(A,b)\n",
    "  \n",
    "    return coefsResult"
   ]
  },
  {
   "cell_type": "code",
   "execution_count": 40,
   "metadata": {},
   "outputs": [
    {
     "name": "stdout",
     "output_type": "stream",
     "text": [
      "NOT diagonally dominant\n",
      "[ 1.03840684e+02 -4.04743210e-03 -3.84540161e-05 -7.22942417e-07]\n",
      "[  0  20  40  60  80 100 120 140 160 180 200 220 240 260 280 300 320 340\n",
      " 360 380 400 420 440 460 480 500 520]\n",
      "[-0.008, 1.244, 5.377, 11.617, 19.872, 31.412, 44.726, 57.396, 67.893, 77.485, 85.662, 92.481, 98.004, 102.301, 105.321, 107.449, 108.619, 108.942, 108.543, 107.69, 106.539, 105.142, 103.775, 102.807, 102.552, 103.297, 105.069]\n"
     ]
    },
    {
     "data": {
      "image/png": "[encoded data removed]",
      "text/plain": [
       "<Figure size 576x504 with 1 Axes>"
      ]
     },
     "metadata": {
      "needs_background": "light"
     },
     "output_type": "display_data"
    }
   ],
   "source": [
    "coefs = PolinomialFit(x,y)\n",
    "print(coefs)\n",
    "\n",
    "print(x)\n",
    "print(y)\n",
    "\n",
    "x_new = np.arange(-520, 520.1,0.1)\n",
    "y_new = [apllyFit3(x_n,coefs) for x_n in x_new]\n",
    "\n",
    "Plotpattern(x,y,x,y,x_new,y_new)"
   ]
  },
  {
   "cell_type": "code",
   "execution_count": 41,
   "metadata": {},
   "outputs": [],
   "source": [
    "def PolinomialFit2(x,y):\n",
    "\n",
    "    n = len(x)\n",
    "    sumX = np.sum(x)\n",
    "    sumY = np.sum(y) \n",
    "\n",
    "    xSquare = [x[i]*x[i] for i in range(len(x))]\n",
    "    sumxSquare = np.sum(xSquare)\n",
    "\n",
    "    xCubic =  [x[i]**3 for i in range(len(x))]\n",
    "    sumxCubic = np.sum(xCubic)\n",
    "\n",
    "    xFourth = [x[i]**4 for i in range(len(x))]\n",
    "    sumxFourth = np.sum(xFourth)\n",
    "\n",
    "    xFith = [x[i]**5 for i in range(len(x))]\n",
    "    sumxFith = np.sum(xFith)\n",
    "\n",
    "    xSixth = [x[i]**6 for i in range(len(x))]\n",
    "    sumxSixth = np.sum(xSixth)\n",
    "\n",
    "    xSeventh = [x[i]**7 for i in range(len(x))]\n",
    "    sumxSeventh = np.sum(xSeventh)\n",
    "\n",
    "    xEightth = [x[i]**8 for i in range(len(x))]\n",
    "    sumxEightth = np.sum(xEightth)\n",
    "\n",
    "    XtY = [x[i]*y[i] for i in range(len(x))]\n",
    "    sumXtY = np.sum(XtY)\n",
    "\n",
    "    #X2tY = [(x[i]**2)*y[i] for i in range(len(x))]\n",
    "    X2tY = []\n",
    "    for i in range(len(x)):\n",
    "        X2tY.append((x[i]**2)*y[i])\n",
    "\n",
    "    sumX2tY = np.sum(X2tY)\n",
    "\n",
    "    X3tY = []\n",
    "    for i in range(len(x)):\n",
    "        X3tY.append((x[i]**3)*y[i])\n",
    "\n",
    "    sumX3tY = np.sum(X3tY)\n",
    "\n",
    "    X4tY = []\n",
    "    for i in range(len(x)):\n",
    "        X3tY.append((x[i]**4)*y[i])\n",
    "\n",
    "    sumX4tY = np.sum(X4tY)\n",
    "\n",
    "    A= np.array([[(n+1)     , sumX      , sumxSquare, sumxCubic, sumxFourth],\n",
    "                 [sumX      , sumxSquare, sumxCubic, sumxFourth, sumxFith],\n",
    "                 [sumxSquare, sumxCubic , sumxFourth, sumxFith, sumxSixth ],\n",
    "                 [sumxCubic , sumxFourth, sumxFith  , sumxSixth, sumxSeventh],\n",
    "                 [sumxFourth, sumxFith  , sumxSixth, sumxSeventh, sumxEightth]])\n",
    "\n",
    "    b = [sumY, sumXtY, sumX2tY, sumX3tY, sumX4tY]\n",
    "    \n",
    "    # Find diagonal coefficients\n",
    "    diag = np.diag(np.abs(A)) \n",
    "\n",
    "    # Find row sum without diagonal\n",
    "    off_diag = np.sum(np.abs(A), axis=1) - diag \n",
    "\n",
    "    if np.all(diag > off_diag):\n",
    "        print('matrix is diagonally dominant')\n",
    "    else:\n",
    "        print('NOT diagonally dominant')\n",
    "\n",
    "    coefsResult = np.linalg.solve(A,b)\n",
    "  \n",
    "    return coefsResult"
   ]
  },
  {
   "cell_type": "code",
   "execution_count": 42,
   "metadata": {},
   "outputs": [
    {
     "name": "stdout",
     "output_type": "stream",
     "text": [
      "NOT diagonally dominant\n",
      "[ 29.06333265  52.07758578 -20.15234192  18.88483926 -17.06931124]\n",
      "[  0  20  40  60  80 100 120 140 160 180 200 220 240 260 280 300 320 340\n",
      " 360 380 400 420 440 460 480 500 520]\n",
      "[-0.008, 1.244, 5.377, 11.617, 19.872, 31.412, 44.726, 57.396, 67.893, 77.485, 85.662, 92.481, 98.004, 102.301, 105.321, 107.449, 108.619, 108.942, 108.543, 107.69, 106.539, 105.142, 103.775, 102.807, 102.552, 103.297, 105.069]\n"
     ]
    },
    {
     "data": {
      "image/png": "[encoded data removed]",
      "text/plain": [
       "<Figure size 576x504 with 1 Axes>"
      ]
     },
     "metadata": {
      "needs_background": "light"
     },
     "output_type": "display_data"
    }
   ],
   "source": [
    "coefs = PolinomialFit2(x,y)\n",
    "print(coefs)\n",
    "\n",
    "print(x)\n",
    "print(y)\n",
    "\n",
    "x_new = np.arange(-750, 750.1,0.1)\n",
    "y_new = [apllyFit4(x_n,coefs) for x_n in x_new]\n",
    "\n",
    "Plotpattern(x,y,x,y,x_new,y_new)"
   ]
  },
  {
   "cell_type": "code",
   "execution_count": 43,
   "metadata": {},
   "outputs": [
    {
     "name": "stdout",
     "output_type": "stream",
     "text": [
      "NOT diagonally dominant\n",
      "[ 0.53302727  2.50895273 -0.37469091]\n",
      "[0, 0.25, 0.5, 0.75, 1.0]\n",
      "[1.0, 1.284, 1.6487, 2.117, 2.7183]\n"
     ]
    },
    {
     "data": {
      "image/png": "[encoded data removed]",
      "text/plain": [
       "<Figure size 576x504 with 1 Axes>"
      ]
     },
     "metadata": {
      "needs_background": "light"
     },
     "output_type": "display_data"
    }
   ],
   "source": [
    "xtest = [0, 0.25, 0.5, 0.75, 1.0]\n",
    "ytest = [1.0, 1.2840, 1.6487, 2.1170, 2.7183]\n",
    "\n",
    "coefs = QuadraticFit2(xtest,ytest)\n",
    "print(coefs)\n",
    "\n",
    "print(xtest)\n",
    "print(ytest)\n",
    "\n",
    "x_new = np.arange(-5, 5,0.01)\n",
    "y_new = [apllyFit2(x_n,coefs) for x_n in x_new]\n",
    "\n",
    "\n",
    "\n",
    "Plotpattern(xtest,ytest,xtest,ytest,x_new,y_new)"
   ]
  },
  {
   "cell_type": "markdown",
   "metadata": {},
   "source": [
    "# Spline"
   ]
  },
  {
   "cell_type": "code",
   "execution_count": 44,
   "metadata": {},
   "outputs": [],
   "source": [
    "from scipy.interpolate import CubicSpline"
   ]
  },
  {
   "cell_type": "code",
   "execution_count": 45,
   "metadata": {},
   "outputs": [
    {
     "data": {
      "image/png": "[encoded data removed]",
      "text/plain": [
       "<Figure size 576x504 with 1 Axes>"
      ]
     },
     "metadata": {
      "needs_background": "light"
     },
     "output_type": "display_data"
    }
   ],
   "source": [
    "xtarget = np.arange(0, 560, 40)\n",
    "ytarget = [y[i*2] for i in range(len(xtarget))]\n",
    "\n",
    "f = CubicSpline(xtarget, ytarget, bc_type='natural')\n",
    "x_new = np.linspace(0, 520)\n",
    "y_new = f(x_new)\n",
    "\n",
    "Plotpattern(x,y,xtarget,ytarget,x_new,y_new)"
   ]
  },
  {
   "cell_type": "code",
   "execution_count": 46,
   "metadata": {},
   "outputs": [
    {
     "name": "stdout",
     "output_type": "stream",
     "text": [
      "[0.0, 0.807991787289106, 0.0, 0.5112253618673215, 0.0, 0.2935346601801676, 0.0, 0.44591327885336796, 0.0, 0.01950654476671332, 0.0, 0.018814457920228733, 0.0, 0.07425128691410521, 0.0, 0.011309310263740713, 0.0, 0.023636472030887035, 0.0, 0.02210519838736502, 0.0, 0.0012156784814578714, 0.0, 0.05234291231312227, 0.0, 0.1822809707710462, 0.0]\n",
      "2.4641279200386297\n"
     ]
    }
   ],
   "source": [
    "firstError = []\n",
    "for i in range(len(x)):\n",
    "    firstError.append(abs(f(x[i])-y[i]))\n",
    "\n",
    "print(firstError)\n",
    "print(np.sum(firstError))"
   ]
  }
 ],
 "metadata": {
  "interpreter": {
   "hash": "071feee9bb2deabe6b15df256141e6a7336da713c53c07d3db821433bc8bc4fc"
  },
  "kernelspec": {
   "display_name": "Python 3.10.2 64-bit",
   "language": "python",
   "name": "python3"
  },
  "language_info": {
   "codemirror_mode": {
    "name": "ipython",
    "version": 3
   },
   "file_extension": ".py",
   "mimetype": "text/x-python",
   "name": "python",
   "nbconvert_exporter": "python",
   "pygments_lexer": "ipython3",
   "version": "3.10.2"
  },
  "orig_nbformat": 4
 },
 "nbformat": 4,
 "nbformat_minor": 2
}
